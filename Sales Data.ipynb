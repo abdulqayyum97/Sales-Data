{
 "cells": [
  {
   "cell_type": "code",
   "execution_count": 8,
   "id": "6fd95205",
   "metadata": {},
   "outputs": [],
   "source": [
    "import pandas as pd\n",
    "import numpy as np\n",
    "sd = pd.read_csv(r'C:\\Users\\hp\\OneDrive\\Desktop\\Class\\Machine Learning\\Sales.csv')"
   ]
  },
  {
   "cell_type": "code",
   "execution_count": 9,
   "id": "9958ac9c",
   "metadata": {},
   "outputs": [
    {
     "data": {
      "text/plain": [
       "Index(['Date', 'Day', 'Month', 'Year', 'Customer_Age', 'Age_Group',\n",
       "       'Customer_Gender', 'Country', 'State', 'Product_Category',\n",
       "       'Sub_Category', 'Product', 'Order_Quantity', 'Unit_Cost', 'Unit_Price',\n",
       "       'Profit', 'Cost', 'Revenue'],\n",
       "      dtype='object')"
      ]
     },
     "execution_count": 9,
     "metadata": {},
     "output_type": "execute_result"
    }
   ],
   "source": [
    "sd.columns"
   ]
  },
  {
   "cell_type": "code",
   "execution_count": 10,
   "id": "9adce8e0",
   "metadata": {},
   "outputs": [
    {
     "name": "stdout",
     "output_type": "stream",
     "text": [
      "<class 'pandas.core.frame.DataFrame'>\n",
      "RangeIndex: 113036 entries, 0 to 113035\n",
      "Data columns (total 18 columns):\n",
      " #   Column            Non-Null Count   Dtype \n",
      "---  ------            --------------   ----- \n",
      " 0   Date              113036 non-null  object\n",
      " 1   Day               113036 non-null  int64 \n",
      " 2   Month             113036 non-null  object\n",
      " 3   Year              113036 non-null  int64 \n",
      " 4   Customer_Age      113036 non-null  int64 \n",
      " 5   Age_Group         113036 non-null  object\n",
      " 6   Customer_Gender   113036 non-null  object\n",
      " 7   Country           113036 non-null  object\n",
      " 8   State             113036 non-null  object\n",
      " 9   Product_Category  113036 non-null  object\n",
      " 10  Sub_Category      113036 non-null  object\n",
      " 11  Product           113036 non-null  object\n",
      " 12  Order_Quantity    113036 non-null  int64 \n",
      " 13  Unit_Cost         113036 non-null  int64 \n",
      " 14  Unit_Price        113036 non-null  int64 \n",
      " 15  Profit            113036 non-null  int64 \n",
      " 16  Cost              113036 non-null  int64 \n",
      " 17  Revenue           113036 non-null  int64 \n",
      "dtypes: int64(9), object(9)\n",
      "memory usage: 15.5+ MB\n"
     ]
    }
   ],
   "source": [
    "sd.info()"
   ]
  },
  {
   "cell_type": "markdown",
   "id": "72652e13",
   "metadata": {},
   "source": [
    "# Checking Object Category\n"
   ]
  },
  {
   "cell_type": "code",
   "execution_count": 11,
   "id": "161c19f1",
   "metadata": {},
   "outputs": [
    {
     "name": "stdout",
     "output_type": "stream",
     "text": [
      "<class 'pandas.core.frame.DataFrame'>\n",
      "RangeIndex: 113036 entries, 0 to 113035\n",
      "Data columns (total 9 columns):\n",
      " #   Column            Non-Null Count   Dtype \n",
      "---  ------            --------------   ----- \n",
      " 0   Date              113036 non-null  object\n",
      " 1   Month             113036 non-null  object\n",
      " 2   Age_Group         113036 non-null  object\n",
      " 3   Customer_Gender   113036 non-null  object\n",
      " 4   Country           113036 non-null  object\n",
      " 5   State             113036 non-null  object\n",
      " 6   Product_Category  113036 non-null  object\n",
      " 7   Sub_Category      113036 non-null  object\n",
      " 8   Product           113036 non-null  object\n",
      "dtypes: object(9)\n",
      "memory usage: 7.8+ MB\n"
     ]
    }
   ],
   "source": [
    "sd.select_dtypes(exclude=['float','int']).info()"
   ]
  },
  {
   "cell_type": "code",
   "execution_count": 12,
   "id": "19122a10",
   "metadata": {},
   "outputs": [],
   "source": [
    "data_obj = sd.select_dtypes(['object'])\n",
    "\n",
    "sd[data_obj.columns] = data_obj.apply(lambda x: x.str.strip())"
   ]
  },
  {
   "cell_type": "markdown",
   "id": "33da5671",
   "metadata": {},
   "source": [
    "# checking date column"
   ]
  },
  {
   "cell_type": "code",
   "execution_count": 6,
   "id": "bc571672",
   "metadata": {},
   "outputs": [
    {
     "data": {
      "text/plain": [
       "2016-03-01    288\n",
       "2014-03-01    288\n",
       "2013-12-07    241\n",
       "2015-12-07    241\n",
       "2016-06-14    236\n",
       "             ... \n",
       "2011-02-21      1\n",
       "2012-02-21      1\n",
       "2012-05-29      1\n",
       "2011-05-29      1\n",
       "2012-11-04      1\n",
       "Name: Date, Length: 1884, dtype: int64"
      ]
     },
     "execution_count": 6,
     "metadata": {},
     "output_type": "execute_result"
    }
   ],
   "source": [
    "pd.set_option('display.max_rows', 500)\n",
    "sd['Date'].value_counts()"
   ]
  },
  {
   "cell_type": "code",
   "execution_count": 37,
   "id": "aed0a014",
   "metadata": {},
   "outputs": [
    {
     "data": {
      "text/plain": [
       "(0, 18)"
      ]
     },
     "execution_count": 37,
     "metadata": {},
     "output_type": "execute_result"
    }
   ],
   "source": [
    "sd.loc[sd['Date'] == \" \"].shape"
   ]
  },
  {
   "cell_type": "code",
   "execution_count": 40,
   "id": "a292143d",
   "metadata": {},
   "outputs": [],
   "source": [
    "sd.loc[sd['Date'] == \" \",\"Date\"] = np.nan"
   ]
  },
  {
   "cell_type": "code",
   "execution_count": 41,
   "id": "21e452c8",
   "metadata": {},
   "outputs": [
    {
     "data": {
      "text/plain": [
       "0"
      ]
     },
     "execution_count": 41,
     "metadata": {},
     "output_type": "execute_result"
    }
   ],
   "source": [
    "sd['Date'].isnull().sum()"
   ]
  },
  {
   "cell_type": "code",
   "execution_count": 30,
   "id": "89705193",
   "metadata": {},
   "outputs": [
    {
     "data": {
      "text/plain": [
       "Series([], Name: Date, dtype: int64)"
      ]
     },
     "execution_count": 30,
     "metadata": {},
     "output_type": "execute_result"
    }
   ],
   "source": [
    "df=sd.loc[pd.to_numeric(sd['Date'],errors='coerce').notna()==False].copy()\n",
    "df.shape\n",
    "df['Date'].value_counts()"
   ]
  },
  {
   "cell_type": "markdown",
   "id": "7f99e5d0",
   "metadata": {},
   "source": [
    "As you can see the 'Date' column is in object data type. So we need to convert it to datetime type."
   ]
  },
  {
   "cell_type": "code",
   "execution_count": 9,
   "id": "fe0fba23",
   "metadata": {},
   "outputs": [],
   "source": [
    "sd['Date'] = pd.to_datetime(sd['Date'])"
   ]
  },
  {
   "cell_type": "markdown",
   "id": "9781f5dd",
   "metadata": {},
   "source": [
    "# Checking Month Column"
   ]
  },
  {
   "cell_type": "code",
   "execution_count": 18,
   "id": "2213145f",
   "metadata": {},
   "outputs": [
    {
     "data": {
      "text/plain": [
       "June         11234\n",
       "December     11200\n",
       "May          11128\n",
       "April        10182\n",
       "March         9674\n",
       "January       9284\n",
       "February      9022\n",
       "October       8750\n",
       "November      8734\n",
       "August        8200\n",
       "September     8166\n",
       "July          7462\n",
       "Name: Month, dtype: int64"
      ]
     },
     "execution_count": 18,
     "metadata": {},
     "output_type": "execute_result"
    }
   ],
   "source": [
    "sd['Month'].value_counts() # all clear, no issue found"
   ]
  },
  {
   "cell_type": "code",
   "execution_count": 16,
   "id": "281460d9",
   "metadata": {},
   "outputs": [],
   "source": [
    "sd['Month'] = sd['Month'].astype(str)"
   ]
  },
  {
   "cell_type": "code",
   "execution_count": 21,
   "id": "58b7ff8a",
   "metadata": {},
   "outputs": [
    {
     "data": {
      "text/plain": [
       "0"
      ]
     },
     "execution_count": 21,
     "metadata": {},
     "output_type": "execute_result"
    }
   ],
   "source": [
    "sd['Month'].isnull().sum()"
   ]
  },
  {
   "cell_type": "markdown",
   "id": "9bbfded1",
   "metadata": {},
   "source": [
    "# Checking Age_Group Column"
   ]
  },
  {
   "cell_type": "code",
   "execution_count": 19,
   "id": "f5c70520",
   "metadata": {},
   "outputs": [
    {
     "data": {
      "text/plain": [
       "Adults (35-64)          55824\n",
       "Young Adults (25-34)    38654\n",
       "Youth (<25)             17828\n",
       "Seniors (64+)             730\n",
       "Name: Age_Group, dtype: int64"
      ]
     },
     "execution_count": 19,
     "metadata": {},
     "output_type": "execute_result"
    }
   ],
   "source": [
    "sd['Age_Group'].value_counts()"
   ]
  },
  {
   "cell_type": "code",
   "execution_count": 20,
   "id": "6d7c7478",
   "metadata": {},
   "outputs": [
    {
     "data": {
      "text/plain": [
       "0"
      ]
     },
     "execution_count": 20,
     "metadata": {},
     "output_type": "execute_result"
    }
   ],
   "source": [
    "sd['Age_Group'].isnull().sum()"
   ]
  },
  {
   "cell_type": "markdown",
   "id": "b4d5abcd",
   "metadata": {},
   "source": [
    "# Checking Customer_Gender Column"
   ]
  },
  {
   "cell_type": "code",
   "execution_count": 22,
   "id": "4822f916",
   "metadata": {},
   "outputs": [
    {
     "data": {
      "text/plain": [
       "M    58312\n",
       "F    54724\n",
       "Name: Customer_Gender, dtype: int64"
      ]
     },
     "execution_count": 22,
     "metadata": {},
     "output_type": "execute_result"
    }
   ],
   "source": [
    "sd['Customer_Gender'].value_counts()"
   ]
  },
  {
   "cell_type": "code",
   "execution_count": 23,
   "id": "5133b7e4",
   "metadata": {},
   "outputs": [
    {
     "data": {
      "text/plain": [
       "0"
      ]
     },
     "execution_count": 23,
     "metadata": {},
     "output_type": "execute_result"
    }
   ],
   "source": [
    "sd['Customer_Gender'].isnull().sum()"
   ]
  },
  {
   "cell_type": "markdown",
   "id": "17d00d7c",
   "metadata": {},
   "source": [
    "# Checking Country Column"
   ]
  },
  {
   "cell_type": "code",
   "execution_count": 24,
   "id": "f38008bb",
   "metadata": {},
   "outputs": [
    {
     "data": {
      "text/plain": [
       "United States     39206\n",
       "Australia         23936\n",
       "Canada            14178\n",
       "United Kingdom    13620\n",
       "Germany           11098\n",
       "France            10998\n",
       "Name: Country, dtype: int64"
      ]
     },
     "execution_count": 24,
     "metadata": {},
     "output_type": "execute_result"
    }
   ],
   "source": [
    "sd['Country'].value_counts()"
   ]
  },
  {
   "cell_type": "code",
   "execution_count": 27,
   "id": "66a58ce3",
   "metadata": {},
   "outputs": [
    {
     "data": {
      "text/plain": [
       "0"
      ]
     },
     "execution_count": 27,
     "metadata": {},
     "output_type": "execute_result"
    }
   ],
   "source": [
    "sd['Country'].isnull().sum()"
   ]
  },
  {
   "cell_type": "markdown",
   "id": "004afd07",
   "metadata": {},
   "source": [
    "# Checking State Column"
   ]
  },
  {
   "cell_type": "code",
   "execution_count": 28,
   "id": "323c2153",
   "metadata": {
    "scrolled": true
   },
   "outputs": [
    {
     "data": {
      "text/plain": [
       "California             22450\n",
       "British Columbia       14116\n",
       "England                13620\n",
       "Washington             11264\n",
       "New South Wales        10412\n",
       "Victoria                6016\n",
       "Oregon                  5286\n",
       "Queensland              5220\n",
       "Saarland                2770\n",
       "Nordrhein-Westfalen     2484\n",
       "Hessen                  2384\n",
       "Seine (Paris)           2328\n",
       "Hamburg                 1836\n",
       "Seine Saint Denis       1684\n",
       "Nord                    1670\n",
       "South Australia         1564\n",
       "Bayern                  1426\n",
       "Hauts de Seine          1084\n",
       "Essonne                  994\n",
       "Yveline                  954\n",
       "Tasmania                 724\n",
       "Seine et Marne           394\n",
       "Moselle                  386\n",
       "Loiret                   382\n",
       "Val d'Oise               264\n",
       "Garonne (Haute)          208\n",
       "Brandenburg              198\n",
       "Val de Marne             158\n",
       "Charente-Maritime        148\n",
       "Somme                    134\n",
       "Loir et Cher             120\n",
       "Pas de Calais             90\n",
       "Alberta                   56\n",
       "Texas                     30\n",
       "Ohio                      28\n",
       "Illinois                  28\n",
       "New York                  20\n",
       "Florida                   14\n",
       "Kentucky                  10\n",
       "South Carolina            10\n",
       "Utah                      10\n",
       "Wyoming                    8\n",
       "Georgia                    8\n",
       "Ontario                    6\n",
       "Missouri                   6\n",
       "Montana                    6\n",
       "Minnesota                  6\n",
       "Virginia                   4\n",
       "North Carolina             4\n",
       "Mississippi                4\n",
       "Arizona                    4\n",
       "Alabama                    4\n",
       "Massachusetts              2\n",
       "Name: State, dtype: int64"
      ]
     },
     "execution_count": 28,
     "metadata": {},
     "output_type": "execute_result"
    }
   ],
   "source": [
    "sd['State'].value_counts()"
   ]
  },
  {
   "cell_type": "markdown",
   "id": "0ab974cf",
   "metadata": {},
   "source": [
    "# Checking Product_Category Column"
   ]
  },
  {
   "cell_type": "code",
   "execution_count": 31,
   "id": "61e0ed2e",
   "metadata": {},
   "outputs": [
    {
     "data": {
      "text/plain": [
       "Accessories    70120\n",
       "Bikes          25982\n",
       "Clothing       16934\n",
       "Name: Product_Category, dtype: int64"
      ]
     },
     "execution_count": 31,
     "metadata": {},
     "output_type": "execute_result"
    }
   ],
   "source": [
    "sd['Product_Category'].value_counts()"
   ]
  },
  {
   "cell_type": "code",
   "execution_count": 32,
   "id": "61259052",
   "metadata": {},
   "outputs": [
    {
     "data": {
      "text/plain": [
       "0"
      ]
     },
     "execution_count": 32,
     "metadata": {},
     "output_type": "execute_result"
    }
   ],
   "source": [
    "sd[\"Product_Category\"].isnull().sum()"
   ]
  },
  {
   "cell_type": "markdown",
   "id": "ed1aa2f7",
   "metadata": {},
   "source": [
    "# Checking Sub_Category Column"
   ]
  },
  {
   "cell_type": "code",
   "execution_count": 33,
   "id": "8090bccf",
   "metadata": {},
   "outputs": [
    {
     "data": {
      "text/plain": [
       "Tires and Tubes      33870\n",
       "Bottles and Cages    15876\n",
       "Road Bikes           13430\n",
       "Helmets              12158\n",
       "Mountain Bikes        8854\n",
       "Jerseys               6010\n",
       "Caps                  4358\n",
       "Fenders               4032\n",
       "Touring Bikes         3698\n",
       "Gloves                2686\n",
       "Cleaners              1802\n",
       "Shorts                1794\n",
       "Hydration Packs       1334\n",
       "Socks                 1122\n",
       "Vests                  964\n",
       "Bike Racks             592\n",
       "Bike Stands            456\n",
       "Name: Sub_Category, dtype: int64"
      ]
     },
     "execution_count": 33,
     "metadata": {},
     "output_type": "execute_result"
    }
   ],
   "source": [
    "sd['Sub_Category'].value_counts()"
   ]
  },
  {
   "cell_type": "code",
   "execution_count": 34,
   "id": "38fbba4b",
   "metadata": {},
   "outputs": [
    {
     "data": {
      "text/plain": [
       "0"
      ]
     },
     "execution_count": 34,
     "metadata": {},
     "output_type": "execute_result"
    }
   ],
   "source": [
    "sd['Sub_Category'].isnull().sum()"
   ]
  },
  {
   "cell_type": "markdown",
   "id": "64298cbb",
   "metadata": {},
   "source": [
    "# Checking Product Column"
   ]
  },
  {
   "cell_type": "code",
   "execution_count": 35,
   "id": "08823617",
   "metadata": {},
   "outputs": [
    {
     "data": {
      "text/plain": [
       "Water Bottle - 30 oz.              10794\n",
       "Patch Kit/8 Patches                10416\n",
       "Mountain Tire Tube                  6816\n",
       "AWC Logo Cap                        4358\n",
       "Sport-100 Helmet, Red               4220\n",
       "Road Tire Tube                      4176\n",
       "Sport-100 Helmet, Black             4152\n",
       "Fender Set - Mountain               4032\n",
       "Sport-100 Helmet, Blue              3788\n",
       "Touring Tire Tube                   3702\n",
       "Road Bottle Cage                    2640\n",
       "Mountain Bottle Cage                2444\n",
       "Bike Wash - Dissolver               1804\n",
       "HL Mountain Tire                    1800\n",
       "LL Road Tire                        1686\n",
       "ML Road Tire                        1396\n",
       "ML Mountain Tire                    1376\n",
       "Hydration Pack - 70 oz.             1332\n",
       "Mountain-200 Black, 38              1208\n",
       "Mountain-200 Silver, 38             1106\n",
       "Mountain-200 Silver, 42             1054\n",
       "HL Road Tire                        1006\n",
       "Half-Finger Gloves, S                994\n",
       "Mountain-200 Black, 46               992\n",
       "Mountain-200 Black, 42               926\n",
       "Long-Sleeve Logo Jersey, L           894\n",
       "Half-Finger Gloves, L                886\n",
       "Road-750 Black, 48                   880\n",
       "Mountain-200 Silver, 46              858\n",
       "LL Mountain Tire                     842\n",
       "Road-150 Red, 62                     820\n",
       "Half-Finger Gloves, M                802\n",
       "Long-Sleeve Logo Jersey, XL          790\n",
       "Long-Sleeve Logo Jersey, M           786\n",
       "Short-Sleeve Classic Jersey, S       782\n",
       "Long-Sleeve Logo Jersey, S           752\n",
       "Short-Sleeve Classic Jersey, L       736\n",
       "Road-150 Red, 52                     710\n",
       "Road-150 Red, 56                     698\n",
       "Road-750 Black, 44                   682\n",
       "Short-Sleeve Classic Jersey, XL      670\n",
       "Women's Mountain Shorts, M           662\n",
       "Touring Tire                         654\n",
       "Road-150 Red, 48                     644\n",
       "Women's Mountain Shorts, S           620\n",
       "Short-Sleeve Classic Jersey, M       600\n",
       "Hitch Rack - 4-Bike                  596\n",
       "Racing Socks, M                      586\n",
       "Road-750 Black, 52                   576\n",
       "Racing Socks, L                      532\n",
       "Women's Mountain Shorts, L           516\n",
       "Road-350-W Yellow, 48                502\n",
       "Road-250 Black, 52                   484\n",
       "Road-350-W Yellow, 42                480\n",
       "Road-550-W Yellow, 42                480\n",
       "Road-550-W Yellow, 44                474\n",
       "All-Purpose Bike Stand               452\n",
       "Road-150 Red, 44                     418\n",
       "Road-550-W Yellow, 48                412\n",
       "Road-550-W Yellow, 40                402\n",
       "Road-250 Red, 58                     398\n",
       "Road-350-W Yellow, 40                388\n",
       "Road-550-W Yellow, 38                388\n",
       "Road-250 Black, 58                   358\n",
       "Road-250 Black, 44                   350\n",
       "Road-750 Black, 58                   340\n",
       "Mountain-400-W Silver, 38            340\n",
       "Classic Vest, S                      324\n",
       "Classic Vest, M                      320\n",
       "Classic Vest, L                      318\n",
       "Road-250 Red, 48                     316\n",
       "Mountain-400-W Silver, 46            316\n",
       "Touring-1000 Blue, 46                304\n",
       "Touring-1000 Yellow, 50              304\n",
       "Mountain-400-W Silver, 42            294\n",
       "Touring-1000 Yellow, 60              282\n",
       "Road-250 Black, 48                   272\n",
       "Road-350-W Yellow, 44                264\n",
       "Touring-1000 Yellow, 46              254\n",
       "Touring-1000 Yellow, 54              238\n",
       "Touring-1000 Blue, 50                226\n",
       "Touring-1000 Blue, 54                222\n",
       "Touring-2000 Blue, 50                212\n",
       "Road-650 Red, 48                     212\n",
       "Mountain-400-W Silver, 40            212\n",
       "Touring-1000 Blue, 60                206\n",
       "Touring-2000 Blue, 46                200\n",
       "Road-250 Red, 44                     172\n",
       "Mountain-500 Black, 44               172\n",
       "Road-650 Red, 62                     166\n",
       "Road-250 Red, 52                     160\n",
       "Touring-2000 Blue, 60                156\n",
       "Mountain-500 Silver, 40              156\n",
       "Mountain-500 Black, 40               144\n",
       "Touring-3000 Yellow, 44              136\n",
       "Touring-2000 Blue, 54                134\n",
       "Mountain-500 Silver, 42              134\n",
       "Road-650 Black, 62                   128\n",
       "Road-650 Black, 58                   124\n",
       "Road-650 Red, 58                     118\n",
       "Touring-3000 Yellow, 54              116\n",
       "Touring-3000 Yellow, 50              114\n",
       "Road-650 Red, 60                     112\n",
       "Touring-3000 Blue, 58                112\n",
       "Road-650 Black, 60                   108\n",
       "Mountain-500 Black, 48               106\n",
       "Touring-3000 Blue, 62                100\n",
       "Road-650 Black, 52                   100\n",
       "Touring-3000 Blue, 44                 96\n",
       "Road-650 Black, 48                    92\n",
       "Mountain-100 Silver, 38               90\n",
       "Road-650 Red, 44                      86\n",
       "Mountain-500 Black, 42                86\n",
       "Road-650 Black, 44                    84\n",
       "Touring-3000 Yellow, 58               84\n",
       "Mountain-100 Black, 48                78\n",
       "Mountain-100 Black, 38                74\n",
       "Touring-3000 Blue, 54                 74\n",
       "Mountain-100 Black, 44                72\n",
       "Touring-3000 Yellow, 62               72\n",
       "Mountain-500 Silver, 44               70\n",
       "Mountain-500 Silver, 52               70\n",
       "Mountain-100 Black, 42                62\n",
       "Mountain-100 Silver, 44               60\n",
       "Touring-3000 Blue, 50                 58\n",
       "Mountain-100 Silver, 48               58\n",
       "Mountain-100 Silver, 42               54\n",
       "Mountain-500 Silver, 48               40\n",
       "Road-650 Red, 52                      32\n",
       "Mountain-500 Black, 52                22\n",
       "Name: Product, dtype: int64"
      ]
     },
     "execution_count": 35,
     "metadata": {},
     "output_type": "execute_result"
    }
   ],
   "source": [
    "sd['Product'].value_counts()"
   ]
  },
  {
   "cell_type": "code",
   "execution_count": 36,
   "id": "26214f03",
   "metadata": {},
   "outputs": [
    {
     "data": {
      "text/plain": [
       "0"
      ]
     },
     "execution_count": 36,
     "metadata": {},
     "output_type": "execute_result"
    }
   ],
   "source": [
    "sd['Product'].isnull().sum()"
   ]
  },
  {
   "cell_type": "code",
   "execution_count": 21,
   "id": "62bb4d7d",
   "metadata": {},
   "outputs": [],
   "source": [
    "x = sd.isnull().sum()"
   ]
  },
  {
   "cell_type": "code",
   "execution_count": 22,
   "id": "7789bb36",
   "metadata": {},
   "outputs": [],
   "source": [
    "y = pd.DataFrame(x)[0]"
   ]
  },
  {
   "cell_type": "code",
   "execution_count": 23,
   "id": "63005645",
   "metadata": {},
   "outputs": [],
   "source": [
    "miss_cols = pd.DataFrame(y[y>0]).index.tolist()"
   ]
  },
  {
   "cell_type": "code",
   "execution_count": 24,
   "id": "03b680a6",
   "metadata": {},
   "outputs": [
    {
     "data": {
      "text/plain": [
       "Series([], dtype: float64)"
      ]
     },
     "execution_count": 24,
     "metadata": {},
     "output_type": "execute_result"
    }
   ],
   "source": [
    "sd[miss_cols].isnull().sum()"
   ]
  },
  {
   "cell_type": "code",
   "execution_count": 48,
   "id": "20f826e5",
   "metadata": {},
   "outputs": [
    {
     "name": "stdout",
     "output_type": "stream",
     "text": [
      "Defaulting to user installation because normal site-packages is not writeable\n",
      "Requirement already satisfied: missingno in c:\\users\\hp\\appdata\\roaming\\python\\python311\\site-packages (0.5.2)\n",
      "Requirement already satisfied: numpy in c:\\programdata\\anaconda3\\lib\\site-packages (from missingno) (1.24.3)\n",
      "Requirement already satisfied: matplotlib in c:\\programdata\\anaconda3\\lib\\site-packages (from missingno) (3.7.1)\n",
      "Requirement already satisfied: scipy in c:\\programdata\\anaconda3\\lib\\site-packages (from missingno) (1.10.1)\n",
      "Requirement already satisfied: seaborn in c:\\programdata\\anaconda3\\lib\\site-packages (from missingno) (0.12.2)\n",
      "Requirement already satisfied: contourpy>=1.0.1 in c:\\programdata\\anaconda3\\lib\\site-packages (from matplotlib->missingno) (1.0.5)\n",
      "Requirement already satisfied: cycler>=0.10 in c:\\programdata\\anaconda3\\lib\\site-packages (from matplotlib->missingno) (0.11.0)\n",
      "Requirement already satisfied: fonttools>=4.22.0 in c:\\programdata\\anaconda3\\lib\\site-packages (from matplotlib->missingno) (4.25.0)\n",
      "Requirement already satisfied: kiwisolver>=1.0.1 in c:\\programdata\\anaconda3\\lib\\site-packages (from matplotlib->missingno) (1.4.4)\n",
      "Requirement already satisfied: packaging>=20.0 in c:\\programdata\\anaconda3\\lib\\site-packages (from matplotlib->missingno) (23.0)\n",
      "Requirement already satisfied: pillow>=6.2.0 in c:\\programdata\\anaconda3\\lib\\site-packages (from matplotlib->missingno) (9.4.0)\n",
      "Requirement already satisfied: pyparsing>=2.3.1 in c:\\programdata\\anaconda3\\lib\\site-packages (from matplotlib->missingno) (3.0.9)\n",
      "Requirement already satisfied: python-dateutil>=2.7 in c:\\programdata\\anaconda3\\lib\\site-packages (from matplotlib->missingno) (2.8.2)\n",
      "Requirement already satisfied: pandas>=0.25 in c:\\programdata\\anaconda3\\lib\\site-packages (from seaborn->missingno) (1.5.3)\n",
      "Requirement already satisfied: pytz>=2020.1 in c:\\programdata\\anaconda3\\lib\\site-packages (from pandas>=0.25->seaborn->missingno) (2022.7)\n",
      "Requirement already satisfied: six>=1.5 in c:\\programdata\\anaconda3\\lib\\site-packages (from python-dateutil>=2.7->matplotlib->missingno) (1.16.0)\n",
      "Note: you may need to restart the kernel to use updated packages.\n"
     ]
    }
   ],
   "source": [
    "pip install missingno"
   ]
  },
  {
   "cell_type": "code",
   "execution_count": 25,
   "id": "67658c88",
   "metadata": {},
   "outputs": [],
   "source": [
    "import missingno as msno"
   ]
  },
  {
   "cell_type": "code",
   "execution_count": 28,
   "id": "c1b57aa5",
   "metadata": {},
   "outputs": [],
   "source": [
    "miss_data = sd"
   ]
  },
  {
   "cell_type": "code",
   "execution_count": 29,
   "id": "d1b9643e",
   "metadata": {},
   "outputs": [
    {
     "data": {
      "text/plain": [
       "<Axes: >"
      ]
     },
     "execution_count": 29,
     "metadata": {},
     "output_type": "execute_result"
    },
    {
     "data": {
      "image/png": "[encoded data removed]",
      "text/plain": [
       "<Figure size 2500x1000 with 2 Axes>"
      ]
     },
     "metadata": {},
     "output_type": "display_data"
    }
   ],
   "source": [
    "msno.matrix(miss_data)"
   ]
  },
  {
   "cell_type": "code",
   "execution_count": 31,
   "id": "8c328700",
   "metadata": {},
   "outputs": [
    {
     "name": "stderr",
     "output_type": "stream",
     "text": [
      "C:\\ProgramData\\anaconda3\\Lib\\site-packages\\seaborn\\matrix.py:309: UserWarning: Attempting to set identical low and high xlims makes transformation singular; automatically expanding.\n",
      "  ax.set(xlim=(0, self.data.shape[1]), ylim=(0, self.data.shape[0]))\n",
      "C:\\ProgramData\\anaconda3\\Lib\\site-packages\\seaborn\\matrix.py:309: UserWarning: Attempting to set identical low and high ylims makes transformation singular; automatically expanding.\n",
      "  ax.set(xlim=(0, self.data.shape[1]), ylim=(0, self.data.shape[0]))\n"
     ]
    },
    {
     "data": {
      "text/plain": [
       "<Axes: >"
      ]
     },
     "execution_count": 31,
     "metadata": {},
     "output_type": "execute_result"
    },
    {
     "data": {
      "image/png": "[encoded data removed]",
      "text/plain": [
       "<Figure size 2000x1200 with 2 Axes>"
      ]
     },
     "metadata": {},
     "output_type": "display_data"
    }
   ],
   "source": [
    "msno.heatmap(sd)"
   ]
  },
  {
   "cell_type": "code",
   "execution_count": 32,
   "id": "2dd9a517",
   "metadata": {},
   "outputs": [
    {
     "data": {
      "text/plain": [
       "<Axes: >"
      ]
     },
     "execution_count": 32,
     "metadata": {},
     "output_type": "execute_result"
    },
    {
     "data": {
      "image/png": "[encoded data removed]",
      "text/plain": [
       "<Figure size 2500x1000 with 3 Axes>"
      ]
     },
     "metadata": {},
     "output_type": "display_data"
    }
   ],
   "source": [
    "msno.bar(sd)"
   ]
  },
  {
   "cell_type": "code",
   "execution_count": 35,
   "id": "c73aee99",
   "metadata": {},
   "outputs": [
    {
     "data": {
      "text/plain": [
       "Date                0\n",
       "Day                 0\n",
       "Month               0\n",
       "Year                0\n",
       "Customer_Age        0\n",
       "Age_Group           0\n",
       "Customer_Gender     0\n",
       "Country             0\n",
       "State               0\n",
       "Product_Category    0\n",
       "Sub_Category        0\n",
       "Product             0\n",
       "Order_Quantity      0\n",
       "Unit_Cost           0\n",
       "Unit_Price          0\n",
       "Profit              0\n",
       "Cost                0\n",
       "Revenue             0\n",
       "dtype: int64"
      ]
     },
     "execution_count": 35,
     "metadata": {},
     "output_type": "execute_result"
    }
   ],
   "source": [
    "sd.isnull().sum()"
   ]
  },
  {
   "cell_type": "code",
   "execution_count": 36,
   "id": "9ac81ff1",
   "metadata": {},
   "outputs": [
    {
     "data": {
      "text/plain": [
       "(113036, 18)"
      ]
     },
     "execution_count": 36,
     "metadata": {},
     "output_type": "execute_result"
    }
   ],
   "source": [
    "sd.shape"
   ]
  },
  {
   "cell_type": "code",
   "execution_count": 41,
   "id": "2a727e6c",
   "metadata": {},
   "outputs": [
    {
     "data": {
      "text/plain": [
       "1000"
      ]
     },
     "execution_count": 41,
     "metadata": {},
     "output_type": "execute_result"
    }
   ],
   "source": [
    "sd. duplicated().sum() # we have 1000 duplicate rows"
   ]
  },
  {
   "cell_type": "code",
   "execution_count": 42,
   "id": "c6b41d61",
   "metadata": {},
   "outputs": [],
   "source": [
    "sd1 = sd.drop_duplicates()  # we deleted duplicates here"
   ]
  },
  {
   "cell_type": "code",
   "execution_count": 43,
   "id": "86fcfe0b",
   "metadata": {},
   "outputs": [
    {
     "data": {
      "text/html": [
       "<div>\n",
       "<style scoped>\n",
       "    .dataframe tbody tr th:only-of-type {\n",
       "        vertical-align: middle;\n",
       "    }\n",
       "\n",
       "    .dataframe tbody tr th {\n",
       "        vertical-align: top;\n",
       "    }\n",
       "\n",
       "    .dataframe thead th {\n",
       "        text-align: right;\n",
       "    }\n",
       "</style>\n",
       "<table border=\"1\" class=\"dataframe\">\n",
       "  <thead>\n",
       "    <tr style=\"text-align: right;\">\n",
       "      <th></th>\n",
       "      <th>Date</th>\n",
       "      <th>Day</th>\n",
       "      <th>Month</th>\n",
       "      <th>Year</th>\n",
       "      <th>Customer_Age</th>\n",
       "      <th>Age_Group</th>\n",
       "      <th>Customer_Gender</th>\n",
       "      <th>Country</th>\n",
       "      <th>State</th>\n",
       "      <th>Product_Category</th>\n",
       "      <th>Sub_Category</th>\n",
       "      <th>Product</th>\n",
       "      <th>Order_Quantity</th>\n",
       "      <th>Unit_Cost</th>\n",
       "      <th>Unit_Price</th>\n",
       "      <th>Profit</th>\n",
       "      <th>Cost</th>\n",
       "      <th>Revenue</th>\n",
       "    </tr>\n",
       "  </thead>\n",
       "  <tbody>\n",
       "    <tr>\n",
       "      <th>0</th>\n",
       "      <td>2013-11-26</td>\n",
       "      <td>26</td>\n",
       "      <td>November</td>\n",
       "      <td>2013</td>\n",
       "      <td>19</td>\n",
       "      <td>Youth (&lt;25)</td>\n",
       "      <td>M</td>\n",
       "      <td>Canada</td>\n",
       "      <td>British Columbia</td>\n",
       "      <td>Accessories</td>\n",
       "      <td>Bike Racks</td>\n",
       "      <td>Hitch Rack - 4-Bike</td>\n",
       "      <td>8</td>\n",
       "      <td>45</td>\n",
       "      <td>120</td>\n",
       "      <td>590</td>\n",
       "      <td>360</td>\n",
       "      <td>950</td>\n",
       "    </tr>\n",
       "    <tr>\n",
       "      <th>1</th>\n",
       "      <td>2015-11-26</td>\n",
       "      <td>26</td>\n",
       "      <td>November</td>\n",
       "      <td>2015</td>\n",
       "      <td>19</td>\n",
       "      <td>Youth (&lt;25)</td>\n",
       "      <td>M</td>\n",
       "      <td>Canada</td>\n",
       "      <td>British Columbia</td>\n",
       "      <td>Accessories</td>\n",
       "      <td>Bike Racks</td>\n",
       "      <td>Hitch Rack - 4-Bike</td>\n",
       "      <td>8</td>\n",
       "      <td>45</td>\n",
       "      <td>120</td>\n",
       "      <td>590</td>\n",
       "      <td>360</td>\n",
       "      <td>950</td>\n",
       "    </tr>\n",
       "    <tr>\n",
       "      <th>2</th>\n",
       "      <td>2014-03-23</td>\n",
       "      <td>23</td>\n",
       "      <td>March</td>\n",
       "      <td>2014</td>\n",
       "      <td>49</td>\n",
       "      <td>Adults (35-64)</td>\n",
       "      <td>M</td>\n",
       "      <td>Australia</td>\n",
       "      <td>New South Wales</td>\n",
       "      <td>Accessories</td>\n",
       "      <td>Bike Racks</td>\n",
       "      <td>Hitch Rack - 4-Bike</td>\n",
       "      <td>23</td>\n",
       "      <td>45</td>\n",
       "      <td>120</td>\n",
       "      <td>1366</td>\n",
       "      <td>1035</td>\n",
       "      <td>2401</td>\n",
       "    </tr>\n",
       "    <tr>\n",
       "      <th>3</th>\n",
       "      <td>2016-03-23</td>\n",
       "      <td>23</td>\n",
       "      <td>March</td>\n",
       "      <td>2016</td>\n",
       "      <td>49</td>\n",
       "      <td>Adults (35-64)</td>\n",
       "      <td>M</td>\n",
       "      <td>Australia</td>\n",
       "      <td>New South Wales</td>\n",
       "      <td>Accessories</td>\n",
       "      <td>Bike Racks</td>\n",
       "      <td>Hitch Rack - 4-Bike</td>\n",
       "      <td>20</td>\n",
       "      <td>45</td>\n",
       "      <td>120</td>\n",
       "      <td>1188</td>\n",
       "      <td>900</td>\n",
       "      <td>2088</td>\n",
       "    </tr>\n",
       "    <tr>\n",
       "      <th>4</th>\n",
       "      <td>2014-05-15</td>\n",
       "      <td>15</td>\n",
       "      <td>May</td>\n",
       "      <td>2014</td>\n",
       "      <td>47</td>\n",
       "      <td>Adults (35-64)</td>\n",
       "      <td>F</td>\n",
       "      <td>Australia</td>\n",
       "      <td>New South Wales</td>\n",
       "      <td>Accessories</td>\n",
       "      <td>Bike Racks</td>\n",
       "      <td>Hitch Rack - 4-Bike</td>\n",
       "      <td>4</td>\n",
       "      <td>45</td>\n",
       "      <td>120</td>\n",
       "      <td>238</td>\n",
       "      <td>180</td>\n",
       "      <td>418</td>\n",
       "    </tr>\n",
       "    <tr>\n",
       "      <th>...</th>\n",
       "      <td>...</td>\n",
       "      <td>...</td>\n",
       "      <td>...</td>\n",
       "      <td>...</td>\n",
       "      <td>...</td>\n",
       "      <td>...</td>\n",
       "      <td>...</td>\n",
       "      <td>...</td>\n",
       "      <td>...</td>\n",
       "      <td>...</td>\n",
       "      <td>...</td>\n",
       "      <td>...</td>\n",
       "      <td>...</td>\n",
       "      <td>...</td>\n",
       "      <td>...</td>\n",
       "      <td>...</td>\n",
       "      <td>...</td>\n",
       "      <td>...</td>\n",
       "    </tr>\n",
       "    <tr>\n",
       "      <th>113031</th>\n",
       "      <td>2016-04-12</td>\n",
       "      <td>12</td>\n",
       "      <td>April</td>\n",
       "      <td>2016</td>\n",
       "      <td>41</td>\n",
       "      <td>Adults (35-64)</td>\n",
       "      <td>M</td>\n",
       "      <td>United Kingdom</td>\n",
       "      <td>England</td>\n",
       "      <td>Clothing</td>\n",
       "      <td>Vests</td>\n",
       "      <td>Classic Vest, S</td>\n",
       "      <td>3</td>\n",
       "      <td>24</td>\n",
       "      <td>64</td>\n",
       "      <td>112</td>\n",
       "      <td>72</td>\n",
       "      <td>184</td>\n",
       "    </tr>\n",
       "    <tr>\n",
       "      <th>113032</th>\n",
       "      <td>2014-04-02</td>\n",
       "      <td>2</td>\n",
       "      <td>April</td>\n",
       "      <td>2014</td>\n",
       "      <td>18</td>\n",
       "      <td>Youth (&lt;25)</td>\n",
       "      <td>M</td>\n",
       "      <td>Australia</td>\n",
       "      <td>Queensland</td>\n",
       "      <td>Clothing</td>\n",
       "      <td>Vests</td>\n",
       "      <td>Classic Vest, M</td>\n",
       "      <td>22</td>\n",
       "      <td>24</td>\n",
       "      <td>64</td>\n",
       "      <td>655</td>\n",
       "      <td>528</td>\n",
       "      <td>1183</td>\n",
       "    </tr>\n",
       "    <tr>\n",
       "      <th>113033</th>\n",
       "      <td>2016-04-02</td>\n",
       "      <td>2</td>\n",
       "      <td>April</td>\n",
       "      <td>2016</td>\n",
       "      <td>18</td>\n",
       "      <td>Youth (&lt;25)</td>\n",
       "      <td>M</td>\n",
       "      <td>Australia</td>\n",
       "      <td>Queensland</td>\n",
       "      <td>Clothing</td>\n",
       "      <td>Vests</td>\n",
       "      <td>Classic Vest, M</td>\n",
       "      <td>22</td>\n",
       "      <td>24</td>\n",
       "      <td>64</td>\n",
       "      <td>655</td>\n",
       "      <td>528</td>\n",
       "      <td>1183</td>\n",
       "    </tr>\n",
       "    <tr>\n",
       "      <th>113034</th>\n",
       "      <td>2014-03-04</td>\n",
       "      <td>4</td>\n",
       "      <td>March</td>\n",
       "      <td>2014</td>\n",
       "      <td>37</td>\n",
       "      <td>Adults (35-64)</td>\n",
       "      <td>F</td>\n",
       "      <td>France</td>\n",
       "      <td>Seine (Paris)</td>\n",
       "      <td>Clothing</td>\n",
       "      <td>Vests</td>\n",
       "      <td>Classic Vest, L</td>\n",
       "      <td>24</td>\n",
       "      <td>24</td>\n",
       "      <td>64</td>\n",
       "      <td>684</td>\n",
       "      <td>576</td>\n",
       "      <td>1260</td>\n",
       "    </tr>\n",
       "    <tr>\n",
       "      <th>113035</th>\n",
       "      <td>2016-03-04</td>\n",
       "      <td>4</td>\n",
       "      <td>March</td>\n",
       "      <td>2016</td>\n",
       "      <td>37</td>\n",
       "      <td>Adults (35-64)</td>\n",
       "      <td>F</td>\n",
       "      <td>France</td>\n",
       "      <td>Seine (Paris)</td>\n",
       "      <td>Clothing</td>\n",
       "      <td>Vests</td>\n",
       "      <td>Classic Vest, L</td>\n",
       "      <td>23</td>\n",
       "      <td>24</td>\n",
       "      <td>64</td>\n",
       "      <td>655</td>\n",
       "      <td>552</td>\n",
       "      <td>1207</td>\n",
       "    </tr>\n",
       "  </tbody>\n",
       "</table>\n",
       "<p>112036 rows × 18 columns</p>\n",
       "</div>"
      ],
      "text/plain": [
       "              Date  Day     Month  Year  Customer_Age       Age_Group  \\\n",
       "0       2013-11-26   26  November  2013            19     Youth (<25)   \n",
       "1       2015-11-26   26  November  2015            19     Youth (<25)   \n",
       "2       2014-03-23   23     March  2014            49  Adults (35-64)   \n",
       "3       2016-03-23   23     March  2016            49  Adults (35-64)   \n",
       "4       2014-05-15   15       May  2014            47  Adults (35-64)   \n",
       "...            ...  ...       ...   ...           ...             ...   \n",
       "113031  2016-04-12   12     April  2016            41  Adults (35-64)   \n",
       "113032  2014-04-02    2     April  2014            18     Youth (<25)   \n",
       "113033  2016-04-02    2     April  2016            18     Youth (<25)   \n",
       "113034  2014-03-04    4     March  2014            37  Adults (35-64)   \n",
       "113035  2016-03-04    4     March  2016            37  Adults (35-64)   \n",
       "\n",
       "       Customer_Gender         Country             State Product_Category  \\\n",
       "0                    M          Canada  British Columbia      Accessories   \n",
       "1                    M          Canada  British Columbia      Accessories   \n",
       "2                    M       Australia   New South Wales      Accessories   \n",
       "3                    M       Australia   New South Wales      Accessories   \n",
       "4                    F       Australia   New South Wales      Accessories   \n",
       "...                ...             ...               ...              ...   \n",
       "113031               M  United Kingdom           England         Clothing   \n",
       "113032               M       Australia        Queensland         Clothing   \n",
       "113033               M       Australia        Queensland         Clothing   \n",
       "113034               F          France     Seine (Paris)         Clothing   \n",
       "113035               F          France     Seine (Paris)         Clothing   \n",
       "\n",
       "       Sub_Category              Product  Order_Quantity  Unit_Cost  \\\n",
       "0        Bike Racks  Hitch Rack - 4-Bike               8         45   \n",
       "1        Bike Racks  Hitch Rack - 4-Bike               8         45   \n",
       "2        Bike Racks  Hitch Rack - 4-Bike              23         45   \n",
       "3        Bike Racks  Hitch Rack - 4-Bike              20         45   \n",
       "4        Bike Racks  Hitch Rack - 4-Bike               4         45   \n",
       "...             ...                  ...             ...        ...   \n",
       "113031        Vests      Classic Vest, S               3         24   \n",
       "113032        Vests      Classic Vest, M              22         24   \n",
       "113033        Vests      Classic Vest, M              22         24   \n",
       "113034        Vests      Classic Vest, L              24         24   \n",
       "113035        Vests      Classic Vest, L              23         24   \n",
       "\n",
       "        Unit_Price  Profit  Cost  Revenue  \n",
       "0              120     590   360      950  \n",
       "1              120     590   360      950  \n",
       "2              120    1366  1035     2401  \n",
       "3              120    1188   900     2088  \n",
       "4              120     238   180      418  \n",
       "...            ...     ...   ...      ...  \n",
       "113031          64     112    72      184  \n",
       "113032          64     655   528     1183  \n",
       "113033          64     655   528     1183  \n",
       "113034          64     684   576     1260  \n",
       "113035          64     655   552     1207  \n",
       "\n",
       "[112036 rows x 18 columns]"
      ]
     },
     "execution_count": 43,
     "metadata": {},
     "output_type": "execute_result"
    }
   ],
   "source": [
    "sd1"
   ]
  },
  {
   "cell_type": "markdown",
   "id": "e1350bd3",
   "metadata": {},
   "source": [
    "# Performing EDA"
   ]
  },
  {
   "cell_type": "code",
   "execution_count": 37,
   "id": "53220791",
   "metadata": {},
   "outputs": [
    {
     "data": {
      "text/plain": [
       "Index(['Date', 'Day', 'Month', 'Year', 'Customer_Age', 'Age_Group',\n",
       "       'Customer_Gender', 'Country', 'State', 'Product_Category',\n",
       "       'Sub_Category', 'Product', 'Order_Quantity', 'Unit_Cost', 'Unit_Price',\n",
       "       'Profit', 'Cost', 'Revenue'],\n",
       "      dtype='object')"
      ]
     },
     "execution_count": 37,
     "metadata": {},
     "output_type": "execute_result"
    }
   ],
   "source": [
    "sd.columns"
   ]
  },
  {
   "cell_type": "code",
   "execution_count": 38,
   "id": "27119082",
   "metadata": {},
   "outputs": [
    {
     "data": {
      "text/html": [
       "<div>\n",
       "<style scoped>\n",
       "    .dataframe tbody tr th:only-of-type {\n",
       "        vertical-align: middle;\n",
       "    }\n",
       "\n",
       "    .dataframe tbody tr th {\n",
       "        vertical-align: top;\n",
       "    }\n",
       "\n",
       "    .dataframe thead th {\n",
       "        text-align: right;\n",
       "    }\n",
       "</style>\n",
       "<table border=\"1\" class=\"dataframe\">\n",
       "  <thead>\n",
       "    <tr style=\"text-align: right;\">\n",
       "      <th></th>\n",
       "      <th>Date</th>\n",
       "      <th>Day</th>\n",
       "      <th>Month</th>\n",
       "      <th>Year</th>\n",
       "      <th>Customer_Age</th>\n",
       "      <th>Age_Group</th>\n",
       "      <th>Customer_Gender</th>\n",
       "      <th>Country</th>\n",
       "      <th>State</th>\n",
       "      <th>Product_Category</th>\n",
       "      <th>Sub_Category</th>\n",
       "      <th>Product</th>\n",
       "      <th>Order_Quantity</th>\n",
       "      <th>Unit_Cost</th>\n",
       "      <th>Unit_Price</th>\n",
       "      <th>Profit</th>\n",
       "      <th>Cost</th>\n",
       "      <th>Revenue</th>\n",
       "    </tr>\n",
       "  </thead>\n",
       "  <tbody>\n",
       "    <tr>\n",
       "      <th>0</th>\n",
       "      <td>2013-11-26</td>\n",
       "      <td>26</td>\n",
       "      <td>November</td>\n",
       "      <td>2013</td>\n",
       "      <td>19</td>\n",
       "      <td>Youth (&lt;25)</td>\n",
       "      <td>M</td>\n",
       "      <td>Canada</td>\n",
       "      <td>British Columbia</td>\n",
       "      <td>Accessories</td>\n",
       "      <td>Bike Racks</td>\n",
       "      <td>Hitch Rack - 4-Bike</td>\n",
       "      <td>8</td>\n",
       "      <td>45</td>\n",
       "      <td>120</td>\n",
       "      <td>590</td>\n",
       "      <td>360</td>\n",
       "      <td>950</td>\n",
       "    </tr>\n",
       "    <tr>\n",
       "      <th>1</th>\n",
       "      <td>2015-11-26</td>\n",
       "      <td>26</td>\n",
       "      <td>November</td>\n",
       "      <td>2015</td>\n",
       "      <td>19</td>\n",
       "      <td>Youth (&lt;25)</td>\n",
       "      <td>M</td>\n",
       "      <td>Canada</td>\n",
       "      <td>British Columbia</td>\n",
       "      <td>Accessories</td>\n",
       "      <td>Bike Racks</td>\n",
       "      <td>Hitch Rack - 4-Bike</td>\n",
       "      <td>8</td>\n",
       "      <td>45</td>\n",
       "      <td>120</td>\n",
       "      <td>590</td>\n",
       "      <td>360</td>\n",
       "      <td>950</td>\n",
       "    </tr>\n",
       "    <tr>\n",
       "      <th>2</th>\n",
       "      <td>2014-03-23</td>\n",
       "      <td>23</td>\n",
       "      <td>March</td>\n",
       "      <td>2014</td>\n",
       "      <td>49</td>\n",
       "      <td>Adults (35-64)</td>\n",
       "      <td>M</td>\n",
       "      <td>Australia</td>\n",
       "      <td>New South Wales</td>\n",
       "      <td>Accessories</td>\n",
       "      <td>Bike Racks</td>\n",
       "      <td>Hitch Rack - 4-Bike</td>\n",
       "      <td>23</td>\n",
       "      <td>45</td>\n",
       "      <td>120</td>\n",
       "      <td>1366</td>\n",
       "      <td>1035</td>\n",
       "      <td>2401</td>\n",
       "    </tr>\n",
       "    <tr>\n",
       "      <th>3</th>\n",
       "      <td>2016-03-23</td>\n",
       "      <td>23</td>\n",
       "      <td>March</td>\n",
       "      <td>2016</td>\n",
       "      <td>49</td>\n",
       "      <td>Adults (35-64)</td>\n",
       "      <td>M</td>\n",
       "      <td>Australia</td>\n",
       "      <td>New South Wales</td>\n",
       "      <td>Accessories</td>\n",
       "      <td>Bike Racks</td>\n",
       "      <td>Hitch Rack - 4-Bike</td>\n",
       "      <td>20</td>\n",
       "      <td>45</td>\n",
       "      <td>120</td>\n",
       "      <td>1188</td>\n",
       "      <td>900</td>\n",
       "      <td>2088</td>\n",
       "    </tr>\n",
       "    <tr>\n",
       "      <th>4</th>\n",
       "      <td>2014-05-15</td>\n",
       "      <td>15</td>\n",
       "      <td>May</td>\n",
       "      <td>2014</td>\n",
       "      <td>47</td>\n",
       "      <td>Adults (35-64)</td>\n",
       "      <td>F</td>\n",
       "      <td>Australia</td>\n",
       "      <td>New South Wales</td>\n",
       "      <td>Accessories</td>\n",
       "      <td>Bike Racks</td>\n",
       "      <td>Hitch Rack - 4-Bike</td>\n",
       "      <td>4</td>\n",
       "      <td>45</td>\n",
       "      <td>120</td>\n",
       "      <td>238</td>\n",
       "      <td>180</td>\n",
       "      <td>418</td>\n",
       "    </tr>\n",
       "  </tbody>\n",
       "</table>\n",
       "</div>"
      ],
      "text/plain": [
       "         Date  Day     Month  Year  Customer_Age       Age_Group  \\\n",
       "0  2013-11-26   26  November  2013            19     Youth (<25)   \n",
       "1  2015-11-26   26  November  2015            19     Youth (<25)   \n",
       "2  2014-03-23   23     March  2014            49  Adults (35-64)   \n",
       "3  2016-03-23   23     March  2016            49  Adults (35-64)   \n",
       "4  2014-05-15   15       May  2014            47  Adults (35-64)   \n",
       "\n",
       "  Customer_Gender    Country             State Product_Category Sub_Category  \\\n",
       "0               M     Canada  British Columbia      Accessories   Bike Racks   \n",
       "1               M     Canada  British Columbia      Accessories   Bike Racks   \n",
       "2               M  Australia   New South Wales      Accessories   Bike Racks   \n",
       "3               M  Australia   New South Wales      Accessories   Bike Racks   \n",
       "4               F  Australia   New South Wales      Accessories   Bike Racks   \n",
       "\n",
       "               Product  Order_Quantity  Unit_Cost  Unit_Price  Profit  Cost  \\\n",
       "0  Hitch Rack - 4-Bike               8         45         120     590   360   \n",
       "1  Hitch Rack - 4-Bike               8         45         120     590   360   \n",
       "2  Hitch Rack - 4-Bike              23         45         120    1366  1035   \n",
       "3  Hitch Rack - 4-Bike              20         45         120    1188   900   \n",
       "4  Hitch Rack - 4-Bike               4         45         120     238   180   \n",
       "\n",
       "   Revenue  \n",
       "0      950  \n",
       "1      950  \n",
       "2     2401  \n",
       "3     2088  \n",
       "4      418  "
      ]
     },
     "execution_count": 38,
     "metadata": {},
     "output_type": "execute_result"
    }
   ],
   "source": [
    "sd.head()"
   ]
  },
  {
   "cell_type": "code",
   "execution_count": 40,
   "id": "6041e388",
   "metadata": {},
   "outputs": [
    {
     "data": {
      "text/plain": [
       "1000"
      ]
     },
     "execution_count": 40,
     "metadata": {},
     "output_type": "execute_result"
    }
   ],
   "source": [
    "sd.duplicated().sum()"
   ]
  },
  {
   "cell_type": "markdown",
   "id": "273c178d",
   "metadata": {},
   "source": [
    "# Getting demanding products from order quantity"
   ]
  },
  {
   "cell_type": "code",
   "execution_count": 44,
   "id": "9d903b0f",
   "metadata": {},
   "outputs": [],
   "source": [
    "grouped = sd.groupby('Product')"
   ]
  },
  {
   "cell_type": "code",
   "execution_count": 45,
   "id": "96528868",
   "metadata": {},
   "outputs": [],
   "source": [
    "demand_data = grouped['Order_Quantity'].sum().reset_index()"
   ]
  },
  {
   "cell_type": "code",
   "execution_count": 46,
   "id": "90d32e79",
   "metadata": {},
   "outputs": [],
   "source": [
    "demand_data = demand_data.sort_values(by = 'Order_Quantity', ascending = False)"
   ]
  },
  {
   "cell_type": "code",
   "execution_count": 47,
   "id": "ba549298",
   "metadata": {},
   "outputs": [
    {
     "data": {
      "text/html": [
       "<div>\n",
       "<style scoped>\n",
       "    .dataframe tbody tr th:only-of-type {\n",
       "        vertical-align: middle;\n",
       "    }\n",
       "\n",
       "    .dataframe tbody tr th {\n",
       "        vertical-align: top;\n",
       "    }\n",
       "\n",
       "    .dataframe thead th {\n",
       "        text-align: right;\n",
       "    }\n",
       "</style>\n",
       "<table border=\"1\" class=\"dataframe\">\n",
       "  <thead>\n",
       "    <tr style=\"text-align: right;\">\n",
       "      <th></th>\n",
       "      <th>Product</th>\n",
       "      <th>Order_Quantity</th>\n",
       "    </tr>\n",
       "  </thead>\n",
       "  <tbody>\n",
       "    <tr>\n",
       "      <th>126</th>\n",
       "      <td>Water Bottle - 30 oz.</td>\n",
       "      <td>164086</td>\n",
       "    </tr>\n",
       "    <tr>\n",
       "      <th>52</th>\n",
       "      <td>Patch Kit/8 Patches</td>\n",
       "      <td>157583</td>\n",
       "    </tr>\n",
       "    <tr>\n",
       "      <th>23</th>\n",
       "      <td>Mountain Tire Tube</td>\n",
       "      <td>102792</td>\n",
       "    </tr>\n",
       "    <tr>\n",
       "      <th>0</th>\n",
       "      <td>AWC Logo Cap</td>\n",
       "      <td>67316</td>\n",
       "    </tr>\n",
       "    <tr>\n",
       "      <th>101</th>\n",
       "      <td>Sport-100 Helmet, Red</td>\n",
       "      <td>63663</td>\n",
       "    </tr>\n",
       "    <tr>\n",
       "      <th>...</th>\n",
       "      <td>...</td>\n",
       "      <td>...</td>\n",
       "    </tr>\n",
       "    <tr>\n",
       "      <th>25</th>\n",
       "      <td>Mountain-100 Black, 42</td>\n",
       "      <td>73</td>\n",
       "    </tr>\n",
       "    <tr>\n",
       "      <th>117</th>\n",
       "      <td>Touring-3000 Blue, 50</td>\n",
       "      <td>70</td>\n",
       "    </tr>\n",
       "    <tr>\n",
       "      <th>50</th>\n",
       "      <td>Mountain-500 Silver, 48</td>\n",
       "      <td>52</td>\n",
       "    </tr>\n",
       "    <tr>\n",
       "      <th>87</th>\n",
       "      <td>Road-650 Red, 52</td>\n",
       "      <td>52</td>\n",
       "    </tr>\n",
       "    <tr>\n",
       "      <th>46</th>\n",
       "      <td>Mountain-500 Black, 52</td>\n",
       "      <td>40</td>\n",
       "    </tr>\n",
       "  </tbody>\n",
       "</table>\n",
       "<p>130 rows × 2 columns</p>\n",
       "</div>"
      ],
      "text/plain": [
       "                     Product  Order_Quantity\n",
       "126    Water Bottle - 30 oz.          164086\n",
       "52       Patch Kit/8 Patches          157583\n",
       "23        Mountain Tire Tube          102792\n",
       "0               AWC Logo Cap           67316\n",
       "101    Sport-100 Helmet, Red           63663\n",
       "..                       ...             ...\n",
       "25    Mountain-100 Black, 42              73\n",
       "117    Touring-3000 Blue, 50              70\n",
       "50   Mountain-500 Silver, 48              52\n",
       "87          Road-650 Red, 52              52\n",
       "46    Mountain-500 Black, 52              40\n",
       "\n",
       "[130 rows x 2 columns]"
      ]
     },
     "execution_count": 47,
     "metadata": {},
     "output_type": "execute_result"
    }
   ],
   "source": [
    "demand_data"
   ]
  },
  {
   "cell_type": "markdown",
   "id": "50233f17",
   "metadata": {},
   "source": [
    "# What product has high demand in which country"
   ]
  },
  {
   "cell_type": "code",
   "execution_count": 50,
   "id": "fee2fa30",
   "metadata": {},
   "outputs": [],
   "source": [
    "grouped = sd.groupby(['Country','Product'])"
   ]
  },
  {
   "cell_type": "code",
   "execution_count": 51,
   "id": "6939a45a",
   "metadata": {},
   "outputs": [],
   "source": [
    "demand_data = grouped['Order_Quantity'].sum().reset_index()"
   ]
  },
  {
   "cell_type": "code",
   "execution_count": 52,
   "id": "44bd25da",
   "metadata": {},
   "outputs": [],
   "source": [
    "demand_data = demand_data.sort_values(by = 'Order_Quantity', ascending = False)"
   ]
  },
  {
   "cell_type": "code",
   "execution_count": 65,
   "id": "1c0af14a",
   "metadata": {},
   "outputs": [
    {
     "data": {
      "text/html": [
       "<div>\n",
       "<style scoped>\n",
       "    .dataframe tbody tr th:only-of-type {\n",
       "        vertical-align: middle;\n",
       "    }\n",
       "\n",
       "    .dataframe tbody tr th {\n",
       "        vertical-align: top;\n",
       "    }\n",
       "\n",
       "    .dataframe thead th {\n",
       "        text-align: right;\n",
       "    }\n",
       "</style>\n",
       "<table border=\"1\" class=\"dataframe\">\n",
       "  <thead>\n",
       "    <tr style=\"text-align: right;\">\n",
       "      <th></th>\n",
       "      <th>Country</th>\n",
       "      <th>Product</th>\n",
       "      <th>Order_Quantity</th>\n",
       "    </tr>\n",
       "  </thead>\n",
       "  <tbody>\n",
       "    <tr>\n",
       "      <th>741</th>\n",
       "      <td>United States</td>\n",
       "      <td>Water Bottle - 30 oz.</td>\n",
       "      <td>61174</td>\n",
       "    </tr>\n",
       "    <tr>\n",
       "      <th>667</th>\n",
       "      <td>United States</td>\n",
       "      <td>Patch Kit/8 Patches</td>\n",
       "      <td>56408</td>\n",
       "    </tr>\n",
       "    <tr>\n",
       "      <th>639</th>\n",
       "      <td>United States</td>\n",
       "      <td>Mountain Tire Tube</td>\n",
       "      <td>44137</td>\n",
       "    </tr>\n",
       "    <tr>\n",
       "      <th>126</th>\n",
       "      <td>Australia</td>\n",
       "      <td>Water Bottle - 30 oz.</td>\n",
       "      <td>32764</td>\n",
       "    </tr>\n",
       "    <tr>\n",
       "      <th>52</th>\n",
       "      <td>Australia</td>\n",
       "      <td>Patch Kit/8 Patches</td>\n",
       "      <td>32668</td>\n",
       "    </tr>\n",
       "    <tr>\n",
       "      <th>622</th>\n",
       "      <td>United States</td>\n",
       "      <td>Fender Set - Mountain</td>\n",
       "      <td>28031</td>\n",
       "    </tr>\n",
       "    <tr>\n",
       "      <th>153</th>\n",
       "      <td>Canada</td>\n",
       "      <td>Mountain Tire Tube</td>\n",
       "      <td>27546</td>\n",
       "    </tr>\n",
       "    <tr>\n",
       "      <th>174</th>\n",
       "      <td>Canada</td>\n",
       "      <td>Patch Kit/8 Patches</td>\n",
       "      <td>25926</td>\n",
       "    </tr>\n",
       "    <tr>\n",
       "      <th>714</th>\n",
       "      <td>United States</td>\n",
       "      <td>Sport-100 Helmet, Black</td>\n",
       "      <td>23571</td>\n",
       "    </tr>\n",
       "    <tr>\n",
       "      <th>237</th>\n",
       "      <td>Canada</td>\n",
       "      <td>Water Bottle - 30 oz.</td>\n",
       "      <td>22940</td>\n",
       "    </tr>\n",
       "  </tbody>\n",
       "</table>\n",
       "</div>"
      ],
      "text/plain": [
       "           Country                  Product  Order_Quantity\n",
       "741  United States    Water Bottle - 30 oz.           61174\n",
       "667  United States      Patch Kit/8 Patches           56408\n",
       "639  United States       Mountain Tire Tube           44137\n",
       "126      Australia    Water Bottle - 30 oz.           32764\n",
       "52       Australia      Patch Kit/8 Patches           32668\n",
       "622  United States    Fender Set - Mountain           28031\n",
       "153         Canada       Mountain Tire Tube           27546\n",
       "174         Canada      Patch Kit/8 Patches           25926\n",
       "714  United States  Sport-100 Helmet, Black           23571\n",
       "237         Canada    Water Bottle - 30 oz.           22940"
      ]
     },
     "execution_count": 65,
     "metadata": {},
     "output_type": "execute_result"
    }
   ],
   "source": [
    "demand_data.head(10)"
   ]
  },
  {
   "cell_type": "markdown",
   "id": "4a1e2d57",
   "metadata": {},
   "source": [
    "# What product has high demand in which states"
   ]
  },
  {
   "cell_type": "code",
   "execution_count": 67,
   "id": "03b727a5",
   "metadata": {},
   "outputs": [],
   "source": [
    "grouped = sd.groupby(['State','Product'])"
   ]
  },
  {
   "cell_type": "code",
   "execution_count": 68,
   "id": "0175883a",
   "metadata": {},
   "outputs": [],
   "source": [
    "grouped = grouped['Order_Quantity'].sum().reset_index()"
   ]
  },
  {
   "cell_type": "code",
   "execution_count": 69,
   "id": "638facf3",
   "metadata": {},
   "outputs": [],
   "source": [
    "demand_data = grouped.sort_values(by = 'Order_Quantity', ascending = False)"
   ]
  },
  {
   "cell_type": "code",
   "execution_count": 70,
   "id": "2a548391",
   "metadata": {
    "scrolled": true
   },
   "outputs": [
    {
     "data": {
      "text/html": [
       "<div>\n",
       "<style scoped>\n",
       "    .dataframe tbody tr th:only-of-type {\n",
       "        vertical-align: middle;\n",
       "    }\n",
       "\n",
       "    .dataframe tbody tr th {\n",
       "        vertical-align: top;\n",
       "    }\n",
       "\n",
       "    .dataframe thead th {\n",
       "        text-align: right;\n",
       "    }\n",
       "</style>\n",
       "<table border=\"1\" class=\"dataframe\">\n",
       "  <thead>\n",
       "    <tr style=\"text-align: right;\">\n",
       "      <th></th>\n",
       "      <th>State</th>\n",
       "      <th>Product</th>\n",
       "      <th>Order_Quantity</th>\n",
       "    </tr>\n",
       "  </thead>\n",
       "  <tbody>\n",
       "    <tr>\n",
       "      <th>385</th>\n",
       "      <td>California</td>\n",
       "      <td>Water Bottle - 30 oz.</td>\n",
       "      <td>36635</td>\n",
       "    </tr>\n",
       "    <tr>\n",
       "      <th>317</th>\n",
       "      <td>California</td>\n",
       "      <td>Patch Kit/8 Patches</td>\n",
       "      <td>27855</td>\n",
       "    </tr>\n",
       "    <tr>\n",
       "      <th>181</th>\n",
       "      <td>British Columbia</td>\n",
       "      <td>Mountain Tire Tube</td>\n",
       "      <td>27505</td>\n",
       "    </tr>\n",
       "    <tr>\n",
       "      <th>202</th>\n",
       "      <td>British Columbia</td>\n",
       "      <td>Patch Kit/8 Patches</td>\n",
       "      <td>25799</td>\n",
       "    </tr>\n",
       "    <tr>\n",
       "      <th>265</th>\n",
       "      <td>British Columbia</td>\n",
       "      <td>Water Bottle - 30 oz.</td>\n",
       "      <td>22940</td>\n",
       "    </tr>\n",
       "    <tr>\n",
       "      <th>292</th>\n",
       "      <td>California</td>\n",
       "      <td>Mountain Tire Tube</td>\n",
       "      <td>22747</td>\n",
       "    </tr>\n",
       "    <tr>\n",
       "      <th>537</th>\n",
       "      <td>England</td>\n",
       "      <td>Water Bottle - 30 oz.</td>\n",
       "      <td>19751</td>\n",
       "    </tr>\n",
       "    <tr>\n",
       "      <th>2553</th>\n",
       "      <td>Washington</td>\n",
       "      <td>Patch Kit/8 Patches</td>\n",
       "      <td>19318</td>\n",
       "    </tr>\n",
       "    <tr>\n",
       "      <th>1237</th>\n",
       "      <td>New South Wales</td>\n",
       "      <td>Water Bottle - 30 oz.</td>\n",
       "      <td>17879</td>\n",
       "    </tr>\n",
       "    <tr>\n",
       "      <th>2534</th>\n",
       "      <td>Washington</td>\n",
       "      <td>Mountain Tire Tube</td>\n",
       "      <td>16759</td>\n",
       "    </tr>\n",
       "  </tbody>\n",
       "</table>\n",
       "</div>"
      ],
      "text/plain": [
       "                 State                Product  Order_Quantity\n",
       "385         California  Water Bottle - 30 oz.           36635\n",
       "317         California    Patch Kit/8 Patches           27855\n",
       "181   British Columbia     Mountain Tire Tube           27505\n",
       "202   British Columbia    Patch Kit/8 Patches           25799\n",
       "265   British Columbia  Water Bottle - 30 oz.           22940\n",
       "292         California     Mountain Tire Tube           22747\n",
       "537            England  Water Bottle - 30 oz.           19751\n",
       "2553        Washington    Patch Kit/8 Patches           19318\n",
       "1237   New South Wales  Water Bottle - 30 oz.           17879\n",
       "2534        Washington     Mountain Tire Tube           16759"
      ]
     },
     "execution_count": 70,
     "metadata": {},
     "output_type": "execute_result"
    }
   ],
   "source": [
    "demand_data.head(10)"
   ]
  },
  {
   "cell_type": "markdown",
   "id": "9d706e8b",
   "metadata": {},
   "source": [
    "# What age group buying which product in maximum."
   ]
  },
  {
   "cell_type": "code",
   "execution_count": 96,
   "id": "f34e1885",
   "metadata": {},
   "outputs": [],
   "source": [
    "grouped_ByAge = sd.groupby(['Customer_Age','Product'])"
   ]
  },
  {
   "cell_type": "code",
   "execution_count": 98,
   "id": "119d6b88",
   "metadata": {},
   "outputs": [],
   "source": [
    "demand_data_ByAge = grouped_ByAge['Order_Quantity'].sum().reset_index()"
   ]
  },
  {
   "cell_type": "code",
   "execution_count": 99,
   "id": "dbe3f5c8",
   "metadata": {},
   "outputs": [],
   "source": [
    "demand_data_ByAge = demand_data_ByAge.sort_values(by = 'Order_Quantity', ascending = False)"
   ]
  },
  {
   "cell_type": "code",
   "execution_count": 88,
   "id": "cce530fc",
   "metadata": {},
   "outputs": [
    {
     "data": {
      "text/html": [
       "<div>\n",
       "<style scoped>\n",
       "    .dataframe tbody tr th:only-of-type {\n",
       "        vertical-align: middle;\n",
       "    }\n",
       "\n",
       "    .dataframe tbody tr th {\n",
       "        vertical-align: top;\n",
       "    }\n",
       "\n",
       "    .dataframe thead th {\n",
       "        text-align: right;\n",
       "    }\n",
       "</style>\n",
       "<table border=\"1\" class=\"dataframe\">\n",
       "  <thead>\n",
       "    <tr style=\"text-align: right;\">\n",
       "      <th></th>\n",
       "      <th>index</th>\n",
       "      <th>Customer_Age</th>\n",
       "      <th>Product</th>\n",
       "      <th>Order_Quantity</th>\n",
       "    </tr>\n",
       "  </thead>\n",
       "  <tbody>\n",
       "    <tr>\n",
       "      <th>0</th>\n",
       "      <td>1323</td>\n",
       "      <td>31</td>\n",
       "      <td>Water Bottle - 30 oz.</td>\n",
       "      <td>8149</td>\n",
       "    </tr>\n",
       "    <tr>\n",
       "      <th>1</th>\n",
       "      <td>1639</td>\n",
       "      <td>35</td>\n",
       "      <td>Mountain Tire Tube</td>\n",
       "      <td>8085</td>\n",
       "    </tr>\n",
       "    <tr>\n",
       "      <th>2</th>\n",
       "      <td>1122</td>\n",
       "      <td>29</td>\n",
       "      <td>Water Bottle - 30 oz.</td>\n",
       "      <td>7759</td>\n",
       "    </tr>\n",
       "    <tr>\n",
       "      <th>3</th>\n",
       "      <td>1019</td>\n",
       "      <td>28</td>\n",
       "      <td>Water Bottle - 30 oz.</td>\n",
       "      <td>7475</td>\n",
       "    </tr>\n",
       "    <tr>\n",
       "      <th>4</th>\n",
       "      <td>1263</td>\n",
       "      <td>31</td>\n",
       "      <td>Patch Kit/8 Patches</td>\n",
       "      <td>7113</td>\n",
       "    </tr>\n",
       "    <tr>\n",
       "      <th>5</th>\n",
       "      <td>1614</td>\n",
       "      <td>34</td>\n",
       "      <td>Water Bottle - 30 oz.</td>\n",
       "      <td>6999</td>\n",
       "    </tr>\n",
       "    <tr>\n",
       "      <th>6</th>\n",
       "      <td>590</td>\n",
       "      <td>24</td>\n",
       "      <td>Patch Kit/8 Patches</td>\n",
       "      <td>6711</td>\n",
       "    </tr>\n",
       "    <tr>\n",
       "      <th>7</th>\n",
       "      <td>1561</td>\n",
       "      <td>34</td>\n",
       "      <td>Patch Kit/8 Patches</td>\n",
       "      <td>6525</td>\n",
       "    </tr>\n",
       "    <tr>\n",
       "      <th>8</th>\n",
       "      <td>1220</td>\n",
       "      <td>30</td>\n",
       "      <td>Water Bottle - 30 oz.</td>\n",
       "      <td>6354</td>\n",
       "    </tr>\n",
       "    <tr>\n",
       "      <th>9</th>\n",
       "      <td>339</td>\n",
       "      <td>21</td>\n",
       "      <td>Patch Kit/8 Patches</td>\n",
       "      <td>6337</td>\n",
       "    </tr>\n",
       "    <tr>\n",
       "      <th>10</th>\n",
       "      <td>421</td>\n",
       "      <td>22</td>\n",
       "      <td>Patch Kit/8 Patches</td>\n",
       "      <td>6173</td>\n",
       "    </tr>\n",
       "    <tr>\n",
       "      <th>11</th>\n",
       "      <td>1470</td>\n",
       "      <td>33</td>\n",
       "      <td>Patch Kit/8 Patches</td>\n",
       "      <td>6097</td>\n",
       "    </tr>\n",
       "    <tr>\n",
       "      <th>12</th>\n",
       "      <td>1423</td>\n",
       "      <td>32</td>\n",
       "      <td>Water Bottle - 30 oz.</td>\n",
       "      <td>6031</td>\n",
       "    </tr>\n",
       "    <tr>\n",
       "      <th>13</th>\n",
       "      <td>1517</td>\n",
       "      <td>33</td>\n",
       "      <td>Water Bottle - 30 oz.</td>\n",
       "      <td>5949</td>\n",
       "    </tr>\n",
       "    <tr>\n",
       "      <th>14</th>\n",
       "      <td>759</td>\n",
       "      <td>26</td>\n",
       "      <td>Mountain Tire Tube</td>\n",
       "      <td>5872</td>\n",
       "    </tr>\n",
       "  </tbody>\n",
       "</table>\n",
       "</div>"
      ],
      "text/plain": [
       "    index  Customer_Age                Product  Order_Quantity\n",
       "0    1323            31  Water Bottle - 30 oz.            8149\n",
       "1    1639            35     Mountain Tire Tube            8085\n",
       "2    1122            29  Water Bottle - 30 oz.            7759\n",
       "3    1019            28  Water Bottle - 30 oz.            7475\n",
       "4    1263            31    Patch Kit/8 Patches            7113\n",
       "5    1614            34  Water Bottle - 30 oz.            6999\n",
       "6     590            24    Patch Kit/8 Patches            6711\n",
       "7    1561            34    Patch Kit/8 Patches            6525\n",
       "8    1220            30  Water Bottle - 30 oz.            6354\n",
       "9     339            21    Patch Kit/8 Patches            6337\n",
       "10    421            22    Patch Kit/8 Patches            6173\n",
       "11   1470            33    Patch Kit/8 Patches            6097\n",
       "12   1423            32  Water Bottle - 30 oz.            6031\n",
       "13   1517            33  Water Bottle - 30 oz.            5949\n",
       "14    759            26     Mountain Tire Tube            5872"
      ]
     },
     "execution_count": 88,
     "metadata": {},
     "output_type": "execute_result"
    }
   ],
   "source": [
    "demand_data_ByAge.head(15).reset_index()"
   ]
  },
  {
   "cell_type": "markdown",
   "id": "812cac2d",
   "metadata": {},
   "source": [
    "# Calculating unique products"
   ]
  },
  {
   "cell_type": "code",
   "execution_count": 106,
   "id": "50959af1",
   "metadata": {},
   "outputs": [
    {
     "data": {
      "text/plain": [
       "130"
      ]
     },
     "execution_count": 106,
     "metadata": {},
     "output_type": "execute_result"
    }
   ],
   "source": [
    "sd['Product'].nunique()"
   ]
  },
  {
   "cell_type": "markdown",
   "id": "d34c7daf",
   "metadata": {},
   "source": [
    "# Calculating unique categories"
   ]
  },
  {
   "cell_type": "code",
   "execution_count": 109,
   "id": "46aba5f4",
   "metadata": {},
   "outputs": [
    {
     "data": {
      "text/plain": [
       "3"
      ]
     },
     "execution_count": 109,
     "metadata": {},
     "output_type": "execute_result"
    }
   ],
   "source": [
    "sd['Product_Category'].nunique()"
   ]
  },
  {
   "cell_type": "markdown",
   "id": "2b057dfa",
   "metadata": {},
   "source": [
    "# Calculating unique Sub Category"
   ]
  },
  {
   "cell_type": "code",
   "execution_count": 111,
   "id": "7c6d86cf",
   "metadata": {},
   "outputs": [
    {
     "data": {
      "text/plain": [
       "17"
      ]
     },
     "execution_count": 111,
     "metadata": {},
     "output_type": "execute_result"
    }
   ],
   "source": [
    "sd['Sub_Category'].nunique()"
   ]
  },
  {
   "cell_type": "markdown",
   "id": "f4b1141c",
   "metadata": {},
   "source": [
    "# Calculating mean of customer age"
   ]
  },
  {
   "cell_type": "code",
   "execution_count": 113,
   "id": "53377129",
   "metadata": {},
   "outputs": [
    {
     "data": {
      "text/plain": [
       "35.91921157861212"
      ]
     },
     "execution_count": 113,
     "metadata": {},
     "output_type": "execute_result"
    }
   ],
   "source": [
    "sd['Customer_Age'].mean()"
   ]
  },
  {
   "cell_type": "markdown",
   "id": "f69d9125",
   "metadata": {},
   "source": [
    "# Calculating mean of order quantity"
   ]
  },
  {
   "cell_type": "code",
   "execution_count": 115,
   "id": "2da204c2",
   "metadata": {},
   "outputs": [
    {
     "data": {
      "text/plain": [
       "11.901659648253654"
      ]
     },
     "execution_count": 115,
     "metadata": {},
     "output_type": "execute_result"
    }
   ],
   "source": [
    "sd['Order_Quantity'].mean()"
   ]
  },
  {
   "cell_type": "markdown",
   "id": "72e8c9e7",
   "metadata": {},
   "source": [
    "# Calculating mean of profit"
   ]
  },
  {
   "cell_type": "code",
   "execution_count": 117,
   "id": "ddf72f35",
   "metadata": {},
   "outputs": [
    {
     "data": {
      "text/plain": [
       "285.0516649562971"
      ]
     },
     "execution_count": 117,
     "metadata": {},
     "output_type": "execute_result"
    }
   ],
   "source": [
    "sd['Profit'].mean()"
   ]
  },
  {
   "cell_type": "markdown",
   "id": "c9298976",
   "metadata": {},
   "source": [
    "# Calculating mean of unit cost"
   ]
  },
  {
   "cell_type": "code",
   "execution_count": 121,
   "id": "25d6868f",
   "metadata": {},
   "outputs": [
    {
     "data": {
      "text/plain": [
       "267.296365759581"
      ]
     },
     "execution_count": 121,
     "metadata": {},
     "output_type": "execute_result"
    }
   ],
   "source": [
    "sd['Unit_Cost'].mean()"
   ]
  },
  {
   "cell_type": "markdown",
   "id": "5bfb3fa2",
   "metadata": {},
   "source": [
    "# Calculating average order quantity by customer age"
   ]
  },
  {
   "cell_type": "code",
   "execution_count": 135,
   "id": "4449595e",
   "metadata": {},
   "outputs": [],
   "source": [
    "ave_order_quantity = sd.groupby('Customer_Age')['Order_Quantity'].mean().reset_index()"
   ]
  },
  {
   "cell_type": "code",
   "execution_count": 136,
   "id": "ffe9aaa0",
   "metadata": {},
   "outputs": [],
   "source": [
    "ave_order_quantity = ave_order_quantity.sort_values(by = 'Order_Quantity', ascending = False).reset_index()"
   ]
  },
  {
   "cell_type": "code",
   "execution_count": 137,
   "id": "0e16818f",
   "metadata": {},
   "outputs": [
    {
     "data": {
      "text/html": [
       "<div>\n",
       "<style scoped>\n",
       "    .dataframe tbody tr th:only-of-type {\n",
       "        vertical-align: middle;\n",
       "    }\n",
       "\n",
       "    .dataframe tbody tr th {\n",
       "        vertical-align: top;\n",
       "    }\n",
       "\n",
       "    .dataframe thead th {\n",
       "        text-align: right;\n",
       "    }\n",
       "</style>\n",
       "<table border=\"1\" class=\"dataframe\">\n",
       "  <thead>\n",
       "    <tr style=\"text-align: right;\">\n",
       "      <th></th>\n",
       "      <th>index</th>\n",
       "      <th>Customer_Age</th>\n",
       "      <th>Order_Quantity</th>\n",
       "    </tr>\n",
       "  </thead>\n",
       "  <tbody>\n",
       "    <tr>\n",
       "      <th>0</th>\n",
       "      <td>68</td>\n",
       "      <td>86</td>\n",
       "      <td>23.500000</td>\n",
       "    </tr>\n",
       "    <tr>\n",
       "      <th>1</th>\n",
       "      <td>64</td>\n",
       "      <td>81</td>\n",
       "      <td>19.583333</td>\n",
       "    </tr>\n",
       "    <tr>\n",
       "      <th>2</th>\n",
       "      <td>57</td>\n",
       "      <td>74</td>\n",
       "      <td>18.937500</td>\n",
       "    </tr>\n",
       "    <tr>\n",
       "      <th>3</th>\n",
       "      <td>56</td>\n",
       "      <td>73</td>\n",
       "      <td>18.666667</td>\n",
       "    </tr>\n",
       "    <tr>\n",
       "      <th>4</th>\n",
       "      <td>61</td>\n",
       "      <td>78</td>\n",
       "      <td>18.590909</td>\n",
       "    </tr>\n",
       "    <tr>\n",
       "      <th>...</th>\n",
       "      <td>...</td>\n",
       "      <td>...</td>\n",
       "      <td>...</td>\n",
       "    </tr>\n",
       "    <tr>\n",
       "      <th>65</th>\n",
       "      <td>60</td>\n",
       "      <td>77</td>\n",
       "      <td>10.437500</td>\n",
       "    </tr>\n",
       "    <tr>\n",
       "      <th>66</th>\n",
       "      <td>51</td>\n",
       "      <td>68</td>\n",
       "      <td>10.156250</td>\n",
       "    </tr>\n",
       "    <tr>\n",
       "      <th>67</th>\n",
       "      <td>49</td>\n",
       "      <td>66</td>\n",
       "      <td>9.529412</td>\n",
       "    </tr>\n",
       "    <tr>\n",
       "      <th>68</th>\n",
       "      <td>67</td>\n",
       "      <td>85</td>\n",
       "      <td>9.125000</td>\n",
       "    </tr>\n",
       "    <tr>\n",
       "      <th>69</th>\n",
       "      <td>69</td>\n",
       "      <td>87</td>\n",
       "      <td>6.833333</td>\n",
       "    </tr>\n",
       "  </tbody>\n",
       "</table>\n",
       "<p>70 rows × 3 columns</p>\n",
       "</div>"
      ],
      "text/plain": [
       "    index  Customer_Age  Order_Quantity\n",
       "0      68            86       23.500000\n",
       "1      64            81       19.583333\n",
       "2      57            74       18.937500\n",
       "3      56            73       18.666667\n",
       "4      61            78       18.590909\n",
       "..    ...           ...             ...\n",
       "65     60            77       10.437500\n",
       "66     51            68       10.156250\n",
       "67     49            66        9.529412\n",
       "68     67            85        9.125000\n",
       "69     69            87        6.833333\n",
       "\n",
       "[70 rows x 3 columns]"
      ]
     },
     "execution_count": 137,
     "metadata": {},
     "output_type": "execute_result"
    }
   ],
   "source": [
    "ave_order_quantity"
   ]
  },
  {
   "cell_type": "markdown",
   "id": "acd6400e",
   "metadata": {},
   "source": [
    "# identify high value customer age based on their lifetime value (total value generated) as we dont have customer unique id"
   ]
  },
  {
   "cell_type": "code",
   "execution_count": 139,
   "id": "e1107c7c",
   "metadata": {},
   "outputs": [],
   "source": [
    "total_revenue = sd.groupby('Customer_Age')['Revenue'].sum().reset_index()"
   ]
  },
  {
   "cell_type": "code",
   "execution_count": 140,
   "id": "f6eeffd7",
   "metadata": {},
   "outputs": [],
   "source": [
    "total_revenue = total_revenue.sort_values(by = 'Revenue', ascending = False)"
   ]
  },
  {
   "cell_type": "code",
   "execution_count": 141,
   "id": "6ce7782a",
   "metadata": {},
   "outputs": [
    {
     "data": {
      "text/html": [
       "<div>\n",
       "<style scoped>\n",
       "    .dataframe tbody tr th:only-of-type {\n",
       "        vertical-align: middle;\n",
       "    }\n",
       "\n",
       "    .dataframe tbody tr th {\n",
       "        vertical-align: top;\n",
       "    }\n",
       "\n",
       "    .dataframe thead th {\n",
       "        text-align: right;\n",
       "    }\n",
       "</style>\n",
       "<table border=\"1\" class=\"dataframe\">\n",
       "  <thead>\n",
       "    <tr style=\"text-align: right;\">\n",
       "      <th></th>\n",
       "      <th>Customer_Age</th>\n",
       "      <th>Revenue</th>\n",
       "    </tr>\n",
       "  </thead>\n",
       "  <tbody>\n",
       "    <tr>\n",
       "      <th>11</th>\n",
       "      <td>28</td>\n",
       "      <td>4084886</td>\n",
       "    </tr>\n",
       "    <tr>\n",
       "      <th>12</th>\n",
       "      <td>29</td>\n",
       "      <td>3721430</td>\n",
       "    </tr>\n",
       "    <tr>\n",
       "      <th>17</th>\n",
       "      <td>34</td>\n",
       "      <td>3485459</td>\n",
       "    </tr>\n",
       "    <tr>\n",
       "      <th>14</th>\n",
       "      <td>31</td>\n",
       "      <td>3376632</td>\n",
       "    </tr>\n",
       "    <tr>\n",
       "      <th>18</th>\n",
       "      <td>35</td>\n",
       "      <td>3240027</td>\n",
       "    </tr>\n",
       "    <tr>\n",
       "      <th>15</th>\n",
       "      <td>32</td>\n",
       "      <td>2897884</td>\n",
       "    </tr>\n",
       "    <tr>\n",
       "      <th>22</th>\n",
       "      <td>39</td>\n",
       "      <td>2857516</td>\n",
       "    </tr>\n",
       "    <tr>\n",
       "      <th>21</th>\n",
       "      <td>38</td>\n",
       "      <td>2848191</td>\n",
       "    </tr>\n",
       "    <tr>\n",
       "      <th>10</th>\n",
       "      <td>27</td>\n",
       "      <td>2827026</td>\n",
       "    </tr>\n",
       "    <tr>\n",
       "      <th>23</th>\n",
       "      <td>40</td>\n",
       "      <td>2792078</td>\n",
       "    </tr>\n",
       "  </tbody>\n",
       "</table>\n",
       "</div>"
      ],
      "text/plain": [
       "    Customer_Age  Revenue\n",
       "11            28  4084886\n",
       "12            29  3721430\n",
       "17            34  3485459\n",
       "14            31  3376632\n",
       "18            35  3240027\n",
       "15            32  2897884\n",
       "22            39  2857516\n",
       "21            38  2848191\n",
       "10            27  2827026\n",
       "23            40  2792078"
      ]
     },
     "execution_count": 141,
     "metadata": {},
     "output_type": "execute_result"
    }
   ],
   "source": [
    "total_revenue.head(10)"
   ]
  },
  {
   "cell_type": "code",
   "execution_count": 142,
   "id": "50db082a",
   "metadata": {},
   "outputs": [],
   "source": [
    "import matplotlib.pyplot as plt"
   ]
  },
  {
   "cell_type": "code",
   "execution_count": 143,
   "id": "eacdb5da",
   "metadata": {},
   "outputs": [
    {
     "data": {
      "image/png": "[encoded data removed]",
      "text/plain": [
       "<Figure size 640x480 with 1 Axes>"
      ]
     },
     "metadata": {},
     "output_type": "display_data"
    }
   ],
   "source": [
    "plt.bar(total_revenue['Customer_Age'], total_revenue['Revenue'])\n",
    "plt.xlabel('Customer_Age')\n",
    "plt.ylabel('Revenue')\n",
    "plt.title('High Value Age Groups')\n",
    "plt.show()"
   ]
  },
  {
   "cell_type": "markdown",
   "id": "ed27d360",
   "metadata": {},
   "source": [
    "# Finding correlation between customer age and purchase behviour"
   ]
  },
  {
   "cell_type": "code",
   "execution_count": 145,
   "id": "88ecd7ff",
   "metadata": {},
   "outputs": [
    {
     "data": {
      "text/html": [
       "<div>\n",
       "<style scoped>\n",
       "    .dataframe tbody tr th:only-of-type {\n",
       "        vertical-align: middle;\n",
       "    }\n",
       "\n",
       "    .dataframe tbody tr th {\n",
       "        vertical-align: top;\n",
       "    }\n",
       "\n",
       "    .dataframe thead th {\n",
       "        text-align: right;\n",
       "    }\n",
       "</style>\n",
       "<table border=\"1\" class=\"dataframe\">\n",
       "  <thead>\n",
       "    <tr style=\"text-align: right;\">\n",
       "      <th></th>\n",
       "      <th>Customer_Age</th>\n",
       "      <th>Order_Quantity</th>\n",
       "    </tr>\n",
       "  </thead>\n",
       "  <tbody>\n",
       "    <tr>\n",
       "      <th>count</th>\n",
       "      <td>113036.000000</td>\n",
       "      <td>113036.000000</td>\n",
       "    </tr>\n",
       "    <tr>\n",
       "      <th>mean</th>\n",
       "      <td>35.919212</td>\n",
       "      <td>11.901660</td>\n",
       "    </tr>\n",
       "    <tr>\n",
       "      <th>std</th>\n",
       "      <td>11.021936</td>\n",
       "      <td>9.561857</td>\n",
       "    </tr>\n",
       "    <tr>\n",
       "      <th>min</th>\n",
       "      <td>17.000000</td>\n",
       "      <td>1.000000</td>\n",
       "    </tr>\n",
       "    <tr>\n",
       "      <th>25%</th>\n",
       "      <td>28.000000</td>\n",
       "      <td>2.000000</td>\n",
       "    </tr>\n",
       "    <tr>\n",
       "      <th>50%</th>\n",
       "      <td>35.000000</td>\n",
       "      <td>10.000000</td>\n",
       "    </tr>\n",
       "    <tr>\n",
       "      <th>75%</th>\n",
       "      <td>43.000000</td>\n",
       "      <td>20.000000</td>\n",
       "    </tr>\n",
       "    <tr>\n",
       "      <th>max</th>\n",
       "      <td>87.000000</td>\n",
       "      <td>32.000000</td>\n",
       "    </tr>\n",
       "  </tbody>\n",
       "</table>\n",
       "</div>"
      ],
      "text/plain": [
       "        Customer_Age  Order_Quantity\n",
       "count  113036.000000   113036.000000\n",
       "mean       35.919212       11.901660\n",
       "std        11.021936        9.561857\n",
       "min        17.000000        1.000000\n",
       "25%        28.000000        2.000000\n",
       "50%        35.000000       10.000000\n",
       "75%        43.000000       20.000000\n",
       "max        87.000000       32.000000"
      ]
     },
     "execution_count": 145,
     "metadata": {},
     "output_type": "execute_result"
    }
   ],
   "source": [
    "sd[['Customer_Age', 'Order_Quantity']].describe()"
   ]
  },
  {
   "cell_type": "code",
   "execution_count": 146,
   "id": "effc3fc9",
   "metadata": {},
   "outputs": [
    {
     "data": {
      "image/png": "[encoded data removed]",
      "text/plain": [
       "<Figure size 640x480 with 1 Axes>"
      ]
     },
     "metadata": {},
     "output_type": "display_data"
    }
   ],
   "source": [
    "plt.scatter(sd['Customer_Age'], sd['Order_Quantity'])\n",
    "plt.xlabel('Customer_Age')\n",
    "plt.ylabel('Order_Quantity')\n",
    "plt.title('Scatter Plot: Customer Age vs Order Quantity')\n",
    "plt.show()"
   ]
  },
  {
   "cell_type": "code",
   "execution_count": 147,
   "id": "dc1fdf34",
   "metadata": {},
   "outputs": [],
   "source": [
    "correlation_coefficient = sd['Customer_Age'].corr(sd['Order_Quantity'])"
   ]
  },
  {
   "cell_type": "code",
   "execution_count": 148,
   "id": "82194eb3",
   "metadata": {},
   "outputs": [
    {
     "data": {
      "text/plain": [
       "0.02688667249452248"
      ]
     },
     "execution_count": 148,
     "metadata": {},
     "output_type": "execute_result"
    }
   ],
   "source": [
    "correlation_coefficient"
   ]
  },
  {
   "cell_type": "code",
   "execution_count": 152,
   "id": "440f01d5",
   "metadata": {},
   "outputs": [
    {
     "name": "stderr",
     "output_type": "stream",
     "text": [
      "C:\\Users\\hp\\AppData\\Local\\Temp\\ipykernel_11392\\1780661904.py:2: FutureWarning: The default value of numeric_only in DataFrame.corr is deprecated. In a future version, it will default to False. Select only valid columns or specify the value of numeric_only to silence this warning.\n",
      "  correlation_matrix = sd.corr()\n"
     ]
    },
    {
     "data": {
      "image/png": "[encoded data removed]",
      "text/plain": [
       "<Figure size 900x800 with 2 Axes>"
      ]
     },
     "metadata": {},
     "output_type": "display_data"
    }
   ],
   "source": [
    "import seaborn as sns\n",
    "correlation_matrix = sd.corr()\n",
    "sns.heatmap(correlation_matrix, annot = True, cmap = 'coolwarm')\n",
    "sns.set (rc = {'figure.figsize':(13, 13)})\n",
    "plt.title('Correlation Matrix')\n",
    "plt.show()"
   ]
  },
  {
   "cell_type": "markdown",
   "id": "5f8ec69f",
   "metadata": {},
   "source": [
    "# Sales pattern by State, City"
   ]
  },
  {
   "cell_type": "code",
   "execution_count": 178,
   "id": "9ef4ab1f",
   "metadata": {},
   "outputs": [
    {
     "data": {
      "text/html": [
       "<div>\n",
       "<style scoped>\n",
       "    .dataframe tbody tr th:only-of-type {\n",
       "        vertical-align: middle;\n",
       "    }\n",
       "\n",
       "    .dataframe tbody tr th {\n",
       "        vertical-align: top;\n",
       "    }\n",
       "\n",
       "    .dataframe thead th {\n",
       "        text-align: right;\n",
       "    }\n",
       "</style>\n",
       "<table border=\"1\" class=\"dataframe\">\n",
       "  <thead>\n",
       "    <tr style=\"text-align: right;\">\n",
       "      <th></th>\n",
       "      <th>State</th>\n",
       "      <th>Country</th>\n",
       "      <th>Revenue</th>\n",
       "    </tr>\n",
       "  </thead>\n",
       "  <tbody>\n",
       "    <tr>\n",
       "      <th>6</th>\n",
       "      <td>California</td>\n",
       "      <td>United States</td>\n",
       "      <td>17672620</td>\n",
       "    </tr>\n",
       "    <tr>\n",
       "      <th>8</th>\n",
       "      <td>England</td>\n",
       "      <td>United Kingdom</td>\n",
       "      <td>10646196</td>\n",
       "    </tr>\n",
       "    <tr>\n",
       "      <th>26</th>\n",
       "      <td>New South Wales</td>\n",
       "      <td>Australia</td>\n",
       "      <td>9203495</td>\n",
       "    </tr>\n",
       "    <tr>\n",
       "      <th>5</th>\n",
       "      <td>British Columbia</td>\n",
       "      <td>Canada</td>\n",
       "      <td>7877890</td>\n",
       "    </tr>\n",
       "    <tr>\n",
       "      <th>50</th>\n",
       "      <td>Washington</td>\n",
       "      <td>United States</td>\n",
       "      <td>6741510</td>\n",
       "    </tr>\n",
       "    <tr>\n",
       "      <th>35</th>\n",
       "      <td>Queensland</td>\n",
       "      <td>Australia</td>\n",
       "      <td>5066267</td>\n",
       "    </tr>\n",
       "    <tr>\n",
       "      <th>48</th>\n",
       "      <td>Victoria</td>\n",
       "      <td>Australia</td>\n",
       "      <td>5054839</td>\n",
       "    </tr>\n",
       "    <tr>\n",
       "      <th>33</th>\n",
       "      <td>Oregon</td>\n",
       "      <td>United States</td>\n",
       "      <td>3450410</td>\n",
       "    </tr>\n",
       "    <tr>\n",
       "      <th>15</th>\n",
       "      <td>Hessen</td>\n",
       "      <td>Germany</td>\n",
       "      <td>2073391</td>\n",
       "    </tr>\n",
       "    <tr>\n",
       "      <th>36</th>\n",
       "      <td>Saarland</td>\n",
       "      <td>Germany</td>\n",
       "      <td>2029545</td>\n",
       "    </tr>\n",
       "  </tbody>\n",
       "</table>\n",
       "</div>"
      ],
      "text/plain": [
       "               State         Country   Revenue\n",
       "6         California   United States  17672620\n",
       "8            England  United Kingdom  10646196\n",
       "26   New South Wales       Australia   9203495\n",
       "5   British Columbia          Canada   7877890\n",
       "50        Washington   United States   6741510\n",
       "35        Queensland       Australia   5066267\n",
       "48          Victoria       Australia   5054839\n",
       "33            Oregon   United States   3450410\n",
       "15            Hessen         Germany   2073391\n",
       "36          Saarland         Germany   2029545"
      ]
     },
     "execution_count": 178,
     "metadata": {},
     "output_type": "execute_result"
    }
   ],
   "source": [
    "state_sales = sd.groupby(['State','Country'])['Revenue'].sum().reset_index()\n",
    "state_sales = state_sales.sort_values(by = 'Revenue', ascending = False).head(10)\n",
    "state_sales.head(10)"
   ]
  },
  {
   "cell_type": "code",
   "execution_count": 179,
   "id": "a41e830e",
   "metadata": {},
   "outputs": [
    {
     "data": {
      "image/png": "[encoded data removed]",
      "text/plain": [
       "<Figure size 700x500 with 1 Axes>"
      ]
     },
     "metadata": {},
     "output_type": "display_data"
    }
   ],
   "source": [
    "plt.figure(figsize = (7,5))\n",
    "plt.bar(state_sales['State'], state_sales['Revenue'])\n",
    "plt.xlabel('Country')\n",
    "plt.ylabel('Revenue')\n",
    "plt.title('Total Sales by States')\n",
    "plt.xticks(rotation = 90)\n",
    "plt.show()"
   ]
  },
  {
   "cell_type": "code",
   "execution_count": 172,
   "id": "0fa5b778",
   "metadata": {},
   "outputs": [
    {
     "data": {
      "text/html": [
       "<div>\n",
       "<style scoped>\n",
       "    .dataframe tbody tr th:only-of-type {\n",
       "        vertical-align: middle;\n",
       "    }\n",
       "\n",
       "    .dataframe tbody tr th {\n",
       "        vertical-align: top;\n",
       "    }\n",
       "\n",
       "    .dataframe thead th {\n",
       "        text-align: right;\n",
       "    }\n",
       "</style>\n",
       "<table border=\"1\" class=\"dataframe\">\n",
       "  <thead>\n",
       "    <tr style=\"text-align: right;\">\n",
       "      <th></th>\n",
       "      <th>Country</th>\n",
       "      <th>Revenue</th>\n",
       "    </tr>\n",
       "  </thead>\n",
       "  <tbody>\n",
       "    <tr>\n",
       "      <th>5</th>\n",
       "      <td>United States</td>\n",
       "      <td>27975547</td>\n",
       "    </tr>\n",
       "    <tr>\n",
       "      <th>0</th>\n",
       "      <td>Australia</td>\n",
       "      <td>21302059</td>\n",
       "    </tr>\n",
       "    <tr>\n",
       "      <th>4</th>\n",
       "      <td>United Kingdom</td>\n",
       "      <td>10646196</td>\n",
       "    </tr>\n",
       "    <tr>\n",
       "      <th>3</th>\n",
       "      <td>Germany</td>\n",
       "      <td>8978596</td>\n",
       "    </tr>\n",
       "    <tr>\n",
       "      <th>2</th>\n",
       "      <td>France</td>\n",
       "      <td>8432872</td>\n",
       "    </tr>\n",
       "    <tr>\n",
       "      <th>1</th>\n",
       "      <td>Canada</td>\n",
       "      <td>7935738</td>\n",
       "    </tr>\n",
       "  </tbody>\n",
       "</table>\n",
       "</div>"
      ],
      "text/plain": [
       "          Country   Revenue\n",
       "5   United States  27975547\n",
       "0       Australia  21302059\n",
       "4  United Kingdom  10646196\n",
       "3         Germany   8978596\n",
       "2          France   8432872\n",
       "1          Canada   7935738"
      ]
     },
     "execution_count": 172,
     "metadata": {},
     "output_type": "execute_result"
    }
   ],
   "source": [
    "state_sales1 = sd.groupby(['Country'])['Revenue'].sum().reset_index()\n",
    "state_sales1 = state_sales1.sort_values(by = 'Revenue', ascending = False)\n",
    "state_sales1.head(10)"
   ]
  },
  {
   "cell_type": "code",
   "execution_count": 173,
   "id": "1d8ce720",
   "metadata": {},
   "outputs": [
    {
     "data": {
      "image/png": "[encoded data removed]",
      "text/plain": [
       "<Figure size 700x500 with 1 Axes>"
      ]
     },
     "metadata": {},
     "output_type": "display_data"
    }
   ],
   "source": [
    "plt.figure(figsize = (7,5))\n",
    "plt.bar(state_sales1['Country'], state_sales['Revenue'])\n",
    "plt.xlabel('Country')\n",
    "plt.ylabel('Revenue')\n",
    "plt.title('Total Sales by Country')\n",
    "plt.xticks(rotation = 90)\n",
    "plt.show()"
   ]
  },
  {
   "cell_type": "code",
   "execution_count": null,
   "id": "98e5bd20",
   "metadata": {},
   "outputs": [],
   "source": []
  }
 ],
 "metadata": {
  "kernelspec": {
   "display_name": "Python 3 (ipykernel)",
   "language": "python",
   "name": "python3"
  },
  "language_info": {
   "codemirror_mode": {
    "name": "ipython",
    "version": 3
   },
   "file_extension": ".py",
   "mimetype": "text/x-python",
   "name": "python",
   "nbconvert_exporter": "python",
   "pygments_lexer": "ipython3",
   "version": "3.11.3"
  }
 },
 "nbformat": 4,
 "nbformat_minor": 5
}
